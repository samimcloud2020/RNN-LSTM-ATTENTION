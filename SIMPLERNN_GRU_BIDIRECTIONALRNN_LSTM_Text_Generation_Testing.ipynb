{
  "nbformat": 4,
  "nbformat_minor": 0,
  "metadata": {
    "colab": {
      "provenance": [],
      "gpuType": "T4"
    },
    "kernelspec": {
      "name": "python3",
      "display_name": "Python 3"
    },
    "language_info": {
      "name": "python"
    },
    "accelerator": "GPU"
  },
  "cells": [
    {
      "cell_type": "code",
      "execution_count": 1,
      "metadata": {
        "colab": {
          "base_uri": "https://localhost:8080/"
        },
        "id": "mC7xPnfFoT4v",
        "outputId": "fcd5af3b-c9ad-415e-a0f3-ea8a80863f8e"
      },
      "outputs": [
        {
          "output_type": "stream",
          "name": "stdout",
          "text": [
            "✅ File successfully split into 'output_20.txt' (20%) and 'output_80.txt' (80%)\n"
          ]
        }
      ],
      "source": [
        "import tensorflow as tf\n",
        "import numpy as np\n",
        "\n",
        "def split_text_file(input_file, output_file1, output_file2, split_ratio=0.01):\n",
        "    with open(input_file, \"r\", encoding=\"utf-8\") as file:\n",
        "        lines = file.readlines()\n",
        "\n",
        "    split_index = int(len(lines) * split_ratio)  # Compute 20% split index\n",
        "\n",
        "    # Write the first 20% to output_file1\n",
        "    with open(output_file1, \"w\", encoding=\"utf-8\") as file1:\n",
        "        file1.writelines(lines[:split_index])\n",
        "\n",
        "    # Write the remaining 80% to output_file2\n",
        "    with open(output_file2, \"w\", encoding=\"utf-8\") as file2:\n",
        "        file2.writelines(lines[split_index:])\n",
        "\n",
        "    print(f\"✅ File successfully split into '{output_file1}' (20%) and '{output_file2}' (80%)\")\n",
        "\n",
        "# Example Usage\n",
        "split_text_file(\"shakespeare.txt\", \"output_20.txt\", \"output_80.txt\")"
      ]
    },
    {
      "cell_type": "code",
      "source": [
        "# Load dataset (Shakespeare's text as an example)\n",
        "with open(\"output_20.txt\", \"r\", encoding=\"utf-8\") as f:\n",
        "    text = f.read().lower()  # Convert to lowercase for consistency\n"
      ],
      "metadata": {
        "id": "jBSmM6b4pNmK"
      },
      "execution_count": 2,
      "outputs": []
    },
    {
      "cell_type": "code",
      "source": [
        "text"
      ],
      "metadata": {
        "colab": {
          "base_uri": "https://localhost:8080/",
          "height": 123
        },
        "id": "Yico8u3-pNo9",
        "outputId": "d1e8c2f9-3413-416b-fa61-8610e5a3186a"
      },
      "execution_count": 3,
      "outputs": [
        {
          "output_type": "execute_result",
          "data": {
            "text/plain": [
              "'this is the 100th etext file presented by project gutenberg, and\\nis presented in cooperation with world library, inc., from their\\nlibrary of the future and shakespeare cdroms.  project gutenberg\\noften releases etexts that are not placed in the public domain!!\\n\\nshakespeare\\n\\n*this etext has certain copyright implications you should read!*\\n\\n<<this electronic version of the complete works of william\\nshakespeare is copyright 1990-1993 by world library, inc., and is\\nprovided by project gutenberg etext of illinois benedictine college\\nwith permission.  electronic and machine readable copies may be\\ndistributed so long as such copies (1) are for your or others\\npersonal use only, and (2) are not distributed or used\\ncommercially.  prohibited commercial distribution includes by any\\nservice that charges for download time or for membership.>>\\n\\n*project gutenberg is proud to cooperate with the world library*\\nin the presentation of the complete works of william shakespeare\\nfor your reading for education and entertainment.  however, this\\nis neither shareware nor public domain. . .and under the library\\nof the future conditions of this presentation. . .no charges may\\nbe made for *any* access to this material.  you are encouraged!!\\nto give it away to anyone you like, but no charges are allowed!!\\n\\n\\n**welcome to the world of free plain vanilla electronic texts**\\n\\n**etexts readable by both humans and by computers, since 1971**\\n\\n*these etexts prepared by hundreds of volunteers and donations*\\n\\ninformation on contacting project gutenberg to get etexts, and\\nfurther information is included below.  we need your donations.\\n\\n\\nthe complete works of william shakespeare \\n\\njanuary, 1994  [etext #100]\\n\\n\\nthe library of the future complete works of william shakespeare \\nlibrary of the future is a trademark (tm) of world library inc.\\n******this file should be named shaks12.txt or shaks12.zip*****\\n\\ncorrected editions of our etexts get a new number, shaks13.txt\\nversions based on separate sources get new letter, shaks10a.txt\\n\\nif you would like further information about world library, inc.\\nplease call them at 1-800-443-0238 or email julianc@netcom.com\\nplease give them our thanks for their shakespeare cooperation!\\n\\n\\nthe official release date of all project gutenberg etexts is at\\nmidnight, central time, of the last day of the stated month.  a\\npreliminary version may often be posted for suggestion, comment\\nand editing by those who wish to do so.  to be sure you have an\\nup to date first edition [xxxxx10x.xxx] please check file sizes\\nin the first week of the next month.  since our ftp program has\\na bug in it that scrambles the date [tried to fix and failed] a\\nlook at the file size will have to do, but we will try to see a\\nnew copy has at least one byte more or less.\\n\\n\\ninformation about project gutenberg (one page)\\n\\nwe produce about two million dollars for each hour we work.  the\\nfifty hours is one conservative estimate for how long it we take\\nto get any etext selected, entered, proofread, edited, copyright\\nsearched and analyzed, the copyright letters written, etc.  this\\nprojected audience is one hundred million readers.  if our value\\nper text is nominally estimated at one dollar, then we produce 2\\nmillion dollars per hour this year we, will have to do four text\\nfiles per month:  thus upping our productivity from one million.\\nthe goal of project gutenberg is to give away one trillion etext\\nfiles by the december 31, 2001.  [10,000 x 100,000,000=trillion]\\nthis is ten thousand titles each to one hundred million readers,\\nwhich is 10% of the expected number of computer users by the end\\nof the year 2001.\\n\\nwe need your donations more than ever!\\n\\nall donations should be made to \"project gutenberg/ibc\", and are\\ntax deductible to the extent allowable by law (\"ibc\" is illinois\\nbenedictine college).  (subscriptions to our paper newsletter go\\nto ibc, too)\\n\\nfor these and other matters, please mail to:\\n\\nproject gutenberg\\np. o. box  2782\\nchampaign, il 61825\\n\\nwhen all other email fails try our michael s. hart, executive director:\\nhart@vmd.cso.uiuc.edu (internet)   hart@uiucvmd   (bitnet)\\n\\nwe would prefer to send you this information by email\\n(internet, bitnet, compuserve, attmail or mcimail).\\n\\n******\\nif you have an ftp program (or emulator), please\\nftp directly to the project gutenberg archives:\\n[mac users, do not point and click. . .type]\\n\\nftp mrcnext.cso.uiuc.edu\\nlogin:  anonymous\\npassword:  your@login\\ncd etext/etext91\\nor cd etext92\\nor cd etext93 [for new books]  [now also in cd etext/etext93]\\nor cd etext/articles [get suggest gut for more information]\\ndir [to see files]\\nget or mget [to get files. . .set bin for zip files]\\nget 0index.gut\\nfor a list of books\\nand\\nget new gut for general information\\nand\\nmget gut* for newsletters.\\n\\n**information prepared by the project gutenberg legal advisor**\\n\\n\\n***** small print! for complete shakespeare *****\\n\\nthis electronic version of the complete works of william\\nshakespeare is copyright 1990-1993 by world library, inc.,\\nand is provided by project gutenberg etext of\\nillinois benedictine college with permission.\\n\\nsince unlike many other project gutenberg-tm etexts, this etext\\nis copyright protected, and since the materials and methods you\\nuse will effect the project\\'s reputation, your right to copy and\\ndistribute it is limited by the copyright and other laws, and by\\nthe conditions of this \"small print!\" statement.\\n\\n1.  license\\n\\n  a) you may (and are encouraged) to distribute electronic and\\nmachine readable copies of this etext, so long as such copies\\n(1) are for your or others personal use only, and (2) are not\\ndistributed or used commercially.  prohibited commercial\\ndistribution includes by any service that charges for download\\ntime or for membership.\\n\\n  b) this license is subject to the conditions that you honor\\nthe refund and replacement provisions of this \"small print!\"\\nstatement; and that you distribute exact copies of this etext,\\nincluding this small print statement.  such copies can be\\ncompressed or any proprietary form (including any form resulting\\nfrom word processing or hypertext software), so long as\\n*either*:\\n\\n    (1) the etext, when displayed, is clearly readable, and does\\n  *not* contain characters other than those intended by the\\n  author of the work, although tilde (~), asterisk (*) and\\n  underline (_) characters may be used to convey punctuation\\n  intended by the author, and additional characters may be used\\n  to indicate hypertext links; or\\n\\n    (2) the etext is readily convertible by the reader at no\\n  expense into plain ascii, ebcdic or equivalent form by the\\n  program that displays the etext (as is the case, for instance,\\n  with most word processors); or\\n\\n    (3) you provide or agree to provide on request at no\\n  additional cost, fee or expense, a copy of the etext in plain\\n  ascii.\\n\\n2.  limited warranty; disclaimer of damages\\n\\nthis etext may contain a \"defect\" in the form of incomplete,\\ninaccurate or corrupt data, transcription errors, a copyright or\\nother infringement, a defective or damaged disk, computer virus,\\nor codes that damage or cannot be read by your equipment.  but\\nfor the \"right of replacement or refund\" described below, the\\nproject (and any other party you may receive this etext from as\\na project gutenberg-tm etext) disclaims all liability to you for\\ndamages, costs and expenses, including legal fees, and you have\\nno remedies for negligence or under strict liability, or for\\nbreach of warranty or contract, including but not limited to\\nindirect, consequential, punitive or incidental damages, even if\\nyou give notice of the possibility of such damages.\\n\\nif you discover a defect in this etext within 90 days of receiv-\\ning it, you can receive a refund of the money (if any) you paid\\nfor it by sending an explanatory note within that time to the\\nperson you received it from.  if you received it on a physical\\nmedium, you must return it with your note, and such person may\\nchoose to alternatively give you a replacement copy.  if you\\nreceived it electronically, such person may choose to\\nalternatively give you a second opportunity to receive it\\nelectronically.\\n\\nthis etext is otherwise provided to you \"as-is\".  no other\\nwarranties of any kind, express or implied, are made to you as\\nto the etext or any medium it may be on, including but not\\nlimited to warranties of merchantability or fitness for a\\nparticular purpose.  some states do not allow disclaimers of\\nimplied warranties or the exclusion or limitation of consequen-\\ntial damages, so the above disclaimers and exclusions may not\\napply to you, and you may have other legal rights.\\n\\n3.  indemnity: you will indemnify and hold the project, its\\ndirectors, officers, members and agents harmless from all lia-\\nbility, cost and expense, including legal fees, that arise\\ndirectly or indirectly from any of the following that you do or\\ncause: [a] distribution of this etext, [b] alteration,\\nmodification, or addition to the etext, or [c] any defect.\\n\\n4.  what if you *want* to send money even if you don\\'t have to?\\nproject gutenberg is dedicated to increasing the number of\\npublic domain and licensed works that can be freely distributed\\nin machine readable form.  the project gratefully accepts\\ncontributions in money, time, scanning machines, ocr software,\\npublic domain etexts, royalty free copyright licenses, and\\nwhatever else you can think of.  money should be paid to \"pro-\\nject gutenberg association / illinois benedictine college\".\\n\\nwrite to us! we can be reached at:\\n     internet: hart@vmd.cso.uiuc.edu\\n       bitnet: hart@uiucvmd\\n   compuserve: >internet:hart@.vmd.cso.uiuc.edu\\n      attmail: internet!vmd.cso.uiuc.edu!hart\\n        mail:  prof. michael hart\\n               p.o. box 2782\\n               champaign, il 61825\\n\\nthis \"small print!\" by charles b. kramer, attorney\\ninternet (72600.2026@compuserve.com); tel: (212-254-5093)\\n****   small print! for __ complete shakespeare ****\\n[\"small print\" v.12.08.93]\\n\\n<<this electronic version of the complete works of william         \\nshakespeare is copyright 1990-1993 by world library, inc., and is  \\nprovided by project gutenberg etext of illinois benedictine college\\nwith permission.  electronic and machine readable copies may be    \\ndistributed so long as such copies (1) are for your or others      \\npersonal use only, and (2) are not distributed or used             \\ncommercially.  prohibited commercial distribution includes by any  \\nservice that charges for download time or for membership.>> \\n\\n\\n1609\\n\\nthe sonnets\\n\\nby william shakespeare\\n\\n\\n\\n                     1\\n  from fairest creatures we desire increase,\\n  that thereby beauty\\'s rose might never die,\\n  but as the riper should by time decease,\\n  his tender heir might bear his memory:\\n  but thou contracted to thine own bright eyes,\\n  feed\\'st thy light\\'s flame with self-substantial fuel,\\n  making a famine where abundance lies,\\n  thy self thy foe, to thy sweet self too cruel:\\n  thou that art now the world\\'s fresh ornament,\\n  and only herald to the gaudy spring,\\n  within thine own bud buriest thy content,\\n  and tender churl mak\\'st waste in niggarding:\\n    pity the world, or else this glutton be,\\n    to eat the world\\'s due, by the grave and thee.\\n\\n\\n                     2\\n  when forty winters shall besiege thy brow,\\n  and dig deep trenches in thy beauty\\'s field,\\n  thy youth\\'s proud livery so gazed on now,\\n  will be a tattered weed of small worth held:  \\n  then being asked, where all thy beauty lies,\\n  where all the treasure of thy lusty days;\\n  to say within thine own deep sunken eyes,\\n  were an all-eating shame, and thriftless praise.\\n  how much more praise deserved thy beauty\\'s use,\\n  if thou couldst answer \\'this fair child of mine\\n  shall sum my count, and make my old excuse\\'\\n  proving his beauty by succession thine.\\n    this were to be new made when thou art old,\\n    and see thy blood warm when thou feel\\'st it cold.\\n\\n\\n                     3\\n  look in thy glass and tell the face thou viewest,\\n  now is the time that face should form another,\\n  whose fresh repair if now thou not renewest,\\n  thou dost beguile the world, unbless some mother.\\n  for where is she so fair whose uneared womb\\n  disdains the tillage of thy husbandry?\\n  or who is he so fond will be the tomb,\\n  of his self-love to stop posterity?  \\n  thou art thy mother\\'s glass and she in thee\\n  calls back the lovely april of her prime,\\n  so thou through windows of thine age shalt see,\\n  despite of wrinkles this thy golden time.\\n    but if thou live remembered not to be,\\n    die single and thine image dies with thee.\\n\\n\\n                     4\\n  unthrifty loveliness why dost thou spend,\\n  upon thy self thy beauty\\'s legacy?\\n  nature\\'s bequest gives nothing but doth lend,\\n  and being frank she lends to those are free:\\n  then beauteous niggard why dost thou abuse,\\n  the bounteous largess given thee to give?\\n  profitless usurer why dost thou use\\n  so great a sum of sums yet canst not live?\\n  for having traffic with thy self alone,\\n  thou of thy self thy sweet self dost deceive,\\n  then how when nature calls thee to be gone,\\n  what acceptable audit canst thou leave?  \\n    thy unused beauty must be tombed with thee,\\n    which used lives th\\' executor to be.\\n\\n\\n                     5\\n  those hours that with gentle work did frame\\n  the lovely gaze where every eye doth dwell\\n  will play the tyrants to the very same,\\n  and that unfair which fairly doth excel:\\n  for never-resting time leads summer on\\n  to hideous winter and confounds him there,\\n  sap checked with frost and lusty leaves quite gone,\\n  beauty o\\'er-snowed and bareness every where:\\n  then were not summer\\'s distillation left\\n  a liquid prisoner pent in walls of glass,\\n  beauty\\'s effect with beauty were bereft,\\n  nor it nor no remembrance what it was.\\n    but flowers distilled though they with winter meet,\\n    leese but their show, their substance still lives sweet.\\n\\n\\n                     6  \\n  then let not winter\\'s ragged hand deface,\\n  in thee thy summer ere thou be distilled:\\n  make sweet some vial; treasure thou some place,\\n  with beauty\\'s treasure ere it be self-killed:\\n  that use is not forbidden usury,\\n  which happies those that pay the willing loan;\\n  that\\'s for thy self to breed another thee,\\n  or ten times happier be it ten for one,\\n  ten times thy self were happier than thou art,\\n  if ten of thine ten times refigured thee:\\n  then what could death do if thou shouldst depart,\\n  leaving thee living in posterity?\\n    be not self-willed for thou art much too fair,\\n    to be death\\'s conquest and make worms thine heir.\\n\\n\\n                     7\\n  lo in the orient when the gracious light\\n  lifts up his burning head, each under eye\\n  doth homage to his new-appearing sight,\\n  serving with looks his sacred majesty,  \\n  and having climbed the steep-up heavenly hill,\\n  resembling strong youth in his middle age,\\n  yet mortal looks adore his beauty still,\\n  attending on his golden pilgrimage:\\n  but when from highmost pitch with weary car,\\n  like feeble age he reeleth from the day,\\n  the eyes (fore duteous) now converted are\\n  from his low tract and look another way:\\n    so thou, thy self out-going in thy noon:\\n    unlooked on diest unless thou get a son.\\n\\n\\n                     8\\n  music to hear, why hear\\'st thou music sadly?\\n  sweets with sweets war not, joy delights in joy:\\n  why lov\\'st thou that which thou receiv\\'st not gladly,\\n  or else receiv\\'st with pleasure thine annoy?\\n  if the true concord of well-tuned sounds,\\n  by unions married do offend thine ear,\\n  they do but sweetly chide thee, who confounds\\n  in singleness the parts that thou shouldst bear:  \\n  mark how one string sweet husband to another,\\n  strikes each in each by mutual ordering;\\n  resembling sire, and child, and happy mother,\\n  who all in one, one pleasing note do sing:\\n    whose speechless song being many, seeming one,\\n    sings this to thee, \\'thou single wilt prove none\\'.\\n\\n\\n                     9\\n  is it for fear to wet a widow\\'s eye,\\n  that thou consum\\'st thy self in single life?\\n  ah, if thou issueless shalt hap to die,\\n  the world will wail thee like a makeless wife,\\n  the world will be thy widow and still weep,\\n  that thou no form of thee hast left behind,\\n  when every private widow well may keep,\\n  by children\\'s eyes, her husband\\'s shape in mind:\\n  look what an unthrift in the world doth spend\\n  shifts but his place, for still the world enjoys it;\\n  but beauty\\'s waste hath in the world an end,\\n  and kept unused the user so destroys it:  \\n    no love toward others in that bosom sits\\n    that on himself such murd\\'rous shame commits.\\n\\n\\n                     10\\n  for shame deny that thou bear\\'st love to any\\n  who for thy self art so unprovident.\\n  grant if thou wilt, thou art beloved of many,\\n  but that thou none lov\\'st is most evident:\\n  for thou art so possessed with murd\\'rous hate,\\n  that \\'gainst thy self thou stick\\'st not to conspire,\\n  seeking that beauteous roof to ruinate\\n  which to repair should be thy chief desire:\\n  o change thy thought, that i may change my mind,\\n  shall hate be fairer lodged than gentle love?\\n  be as thy presence is gracious and kind,\\n  or to thy self at least kind-hearted prove,\\n    make thee another self for love of me,\\n    that beauty still may live in thine or thee.\\n\\n\\n                     11  \\n  as fast as thou shalt wane so fast thou grow\\'st,\\n  in one of thine, from that which thou departest,\\n  and that fresh blood which youngly thou bestow\\'st,\\n  thou mayst call thine, when thou from youth convertest,\\n  herein lives wisdom, beauty, and increase,\\n  without this folly, age, and cold decay,\\n  if all were minded so, the times should cease,\\n  and threescore year would make the world away:\\n  let those whom nature hath not made for store,\\n  harsh, featureless, and rude, barrenly perish:\\n  look whom she best endowed, she gave thee more;\\n  which bounteous gift thou shouldst in bounty cherish:\\n    she carved thee for her seal, and meant thereby,\\n    thou shouldst print more, not let that copy die.\\n\\n\\n                     12\\n  when i do count the clock that tells the time,\\n  and see the brave day sunk in hideous night,\\n  when i behold the violet past prime,\\n  and sable curls all silvered o\\'er with white:  \\n  when lofty trees i see barren of leaves,\\n  which erst from heat did canopy the herd\\n  and summer\\'s green all girded up in sheaves\\n  borne on the bier with white and bristly beard:\\n  then of thy beauty do i question make\\n  that thou among the wastes of time must go,\\n  since sweets and beauties do themselves forsake,\\n  and die as fast as they see others grow,\\n    and nothing \\'gainst time\\'s scythe can make defence\\n    save breed to brave him, when he takes thee hence.\\n\\n\\n                     13\\n  o that you were your self, but love you are\\n  no longer yours, than you your self here live,\\n  against this coming end you should prepare,\\n  and your sweet semblance to some other give.\\n  so should that beauty which you hold in lease\\n  find no determination, then you were\\n  your self again after your self\\'s decease,\\n  when your sweet issue your sweet form should bear.  \\n  who lets so fair a house fall to decay,\\n  which husbandry in honour might uphold,\\n  against the stormy gusts of winter\\'s day\\n  and barren rage of death\\'s eternal cold?\\n    o none but unthrifts, dear my love you know,\\n    you had a father, let your son say so.\\n\\n\\n                     14\\n  not from the stars do i my judgement pluck,\\n  and yet methinks i have astronomy,\\n  but not to tell of good, or evil luck,\\n  of plagues, of dearths, or seasons\\' quality,\\n  nor can i fortune to brief minutes tell;\\n  pointing to each his thunder, rain and wind,\\n  or say with princes if it shall go well\\n  by oft predict that i in heaven find.\\n  but from thine eyes my knowledge i derive,\\n  and constant stars in them i read such art\\n  as truth and beauty shall together thrive\\n  if from thy self, to store thou wouldst convert:  \\n    or else of thee this i prognosticate,\\n    thy end is truth\\'s and beauty\\'s doom and date.\\n\\n\\n                     15\\n  when i consider every thing that grows\\n  holds in perfection but a little moment.\\n  that this huge stage presenteth nought but shows\\n  whereon the stars in secret influence comment.\\n  when i perceive that men as plants increase,\\n  cheered and checked even by the self-same sky:\\n  vaunt in their youthful sap, at height decrease,\\n  and wear their brave state out of memory.\\n  then the conceit of this inconstant stay,\\n  sets you most rich in youth before my sight,\\n  where wasteful time debateth with decay\\n  to change your day of youth to sullied night,\\n    and all in war with time for love of you,\\n    as he takes from you, i engraft you new.\\n\\n\\n                     16  \\n  but wherefore do not you a mightier way\\n  make war upon this bloody tyrant time?\\n  and fortify your self in your decay\\n  with means more blessed than my barren rhyme?\\n  now stand you on the top of happy hours,\\n  and many maiden gardens yet unset,\\n  with virtuous wish would bear you living flowers,\\n  much liker than your painted counterfeit:\\n  so should the lines of life that life repair\\n  which this (time\\'s pencil) or my pupil pen\\n  neither in inward worth nor outward fair\\n  can make you live your self in eyes of men.\\n    to give away your self, keeps your self still,\\n    and you must live drawn by your own sweet skill.\\n\\n\\n                     17\\n  who will believe my verse in time to come\\n  if it were filled with your most high deserts?\\n  though yet heaven knows it is but as a tomb\\n  which hides your life, and shows not half your parts:  \\n  if i could write the beauty of your eyes,\\n  and in fresh numbers number all your graces,\\n  the age to come would say this poet lies,\\n  such heavenly touches ne\\'er touched earthly faces.\\n  so should my papers (yellowed with their age)\\n  be scorned, like old men of less truth than tongue,\\n  and your true rights be termed a poet\\'s rage,\\n  and stretched metre of an antique song.\\n    but were some child of yours alive that time,\\n    you should live twice in it, and in my rhyme.\\n\\n\\n                     18\\n  shall i compare thee to a summer\\'s day?\\n  thou art more lovely and more temperate:\\n  rough winds do shake the darling buds of may,\\n  and summer\\'s lease hath all too short a date:\\n  sometime too hot the eye of heaven shines,\\n  and often is his gold complexion dimmed,\\n  and every fair from fair sometime declines,\\n  by chance, or nature\\'s changing course untrimmed:  \\n  but thy eternal summer shall not fade,\\n  nor lose possession of that fair thou ow\\'st,\\n  nor shall death brag thou wand\\'rest in his shade,\\n  when in eternal lines to time thou grow\\'st,\\n    so long as men can breathe or eyes can see,\\n    so long lives this, and this gives life to thee.\\n\\n\\n                     19\\n  devouring time blunt thou the lion\\'s paws,\\n  and make the earth devour her own sweet brood,\\n  pluck the keen teeth from the fierce tiger\\'s jaws,\\n  and burn the long-lived phoenix, in her blood,\\n  make glad and sorry seasons as thou fleet\\'st,\\n  and do whate\\'er thou wilt swift-footed time\\n  to the wide world and all her fading sweets:\\n  but i forbid thee one most heinous crime,\\n  o carve not with thy hours my love\\'s fair brow,\\n  nor draw no lines there with thine antique pen,\\n  him in thy course untainted do allow,\\n  for beauty\\'s pattern to succeeding men.  \\n    yet do thy worst old time: despite thy wrong,\\n    my love shall in my verse ever live young.\\n\\n\\n                     20\\n  a woman\\'s face with nature\\'s own hand painted,\\n  hast thou the master mistress of my passion,\\n  a woman\\'s gentle heart but not acquainted\\n  with shifting change as is false women\\'s fashion,\\n  an eye more bright than theirs, less false in rolling:\\n  gilding the object whereupon it gazeth,\\n  a man in hue all hues in his controlling,\\n  which steals men\\'s eyes and women\\'s souls amazeth.\\n  and for a woman wert thou first created,\\n  till nature as she wrought thee fell a-doting,\\n  and by addition me of thee defeated,\\n  by adding one thing to my purpose nothing.\\n    but since she pricked thee out for women\\'s pleasure,\\n    mine be thy love and thy love\\'s use their treasure.\\n\\n\\n                     21  \\n  so is it not with me as with that muse,\\n  stirred by a painted beauty to his verse,\\n  who heaven it self for ornament doth use,\\n  and every fair with his fair doth rehearse,\\n  making a couplement of proud compare\\n  with sun and moon, with earth and sea\\'s rich gems:\\n  with april\\'s first-born flowers and all things rare,\\n  that heaven\\'s air in this huge rondure hems.\\n  o let me true in love but truly write,\\n  and then believe me, my love is as fair,\\n  as any mother\\'s child, though not so bright\\n  as those gold candles fixed in heaven\\'s air:\\n    let them say more that like of hearsay well,\\n    i will not praise that purpose not to sell.\\n\\n\\n                     22\\n  my glass shall not persuade me i am old,\\n  so long as youth and thou are of one date,\\n  but when in thee time\\'s furrows i behold,\\n  then look i death my days should expiate.  \\n  for all that beauty that doth cover thee,\\n  is but the seemly raiment of my heart,\\n  which in thy breast doth live, as thine in me,\\n  how can i then be elder than thou art?\\n  o therefore love be of thyself so wary,\\n  as i not for my self, but for thee will,\\n  bearing thy heart which i will keep so chary\\n  as tender nurse her babe from faring ill.\\n    presume not on thy heart when mine is slain,\\n    thou gav\\'st me thine not to give back again.\\n\\n\\n                     23\\n  as an unperfect actor on the stage,\\n  who with his fear is put beside his part,\\n  or some fierce thing replete with too much rage,\\n  whose strength\\'s abundance weakens his own heart;\\n  so i for fear of trust, forget to say,\\n  the perfect ceremony of love\\'s rite,\\n  and in mine own love\\'s strength seem to decay,\\n  o\\'ercharged with burthen of mine own love\\'s might:  \\n  o let my looks be then the eloquence,\\n  and dumb presagers of my speaking breast,\\n  who plead for love, and look for recompense,\\n  more than that tongue that more hath more expressed.\\n    o learn to read what silent love hath writ,\\n    to hear with eyes belongs to love\\'s fine wit.\\n\\n\\n                     24\\n  mine eye hath played the painter and hath stelled,\\n  thy beauty\\'s form in table of my heart,\\n  my body is the frame wherein \\'tis held,\\n  and perspective it is best painter\\'s art.\\n  for through the painter must you see his skill,\\n  to find where your true image pictured lies,\\n  which in my bosom\\'s shop is hanging still,\\n  that hath his windows glazed with thine eyes:\\n  now see what good turns eyes for eyes have done,\\n  mine eyes have drawn thy shape, and thine for me\\n  are windows to my breast, where-through the sun\\n  delights to peep, to gaze therein on thee;  \\n    yet eyes this cunning want to grace their art,\\n    they draw but what they see, know not the heart.\\n\\n\\n                     25\\n  let those who are in favour with their stars,\\n  of public honour and proud titles boast,\\n  whilst i whom fortune of such triumph bars\\n  unlooked for joy in that i honour most;\\n  great princes\\' favourites their fair leaves spread,\\n  but as the marigold at the sun\\'s eye,\\n  and in themselves their pride lies buried,\\n  for at a frown they in their glory die.\\n  the painful warrior famoused for fight,\\n  after a thousand victories once foiled,\\n  is from the book of honour razed quite,\\n  and all the rest forgot for which he toiled:\\n    then happy i that love and am beloved\\n    where i may not remove nor be removed.\\n\\n\\n                     26  \\n  lord of my love, to whom in vassalage\\n  thy merit hath my duty strongly knit;\\n  to thee i send this written embassage\\n  to witness duty, not to show my wit.\\n  duty so great, which wit so poor as mine\\n  may make seem bare, in wanting words to show it;\\n  but that i hope some good conceit of thine\\n  in thy soul\\'s thought (all naked) will bestow it:\\n  till whatsoever star that guides my moving,\\n  points on me graciously with fair aspect,\\n  and puts apparel on my tattered loving,\\n  to show me worthy of thy sweet respect,\\n    then may i dare to boast how i do love thee,\\n    till then, not show my head where thou mayst prove me.\\n\\n\\n                     27\\n  weary with toil, i haste me to my bed,\\n  the dear respose for limbs with travel tired,\\n  but then begins a journey in my head\\n  to work my mind, when body\\'s work\\'s expired.  \\n  for then my thoughts (from far where i abide)\\n  intend a zealous pilgrimage to thee,\\n  and keep my drooping eyelids open wide,\\n  looking on darkness which the blind do see.\\n  save that my soul\\'s imaginary sight\\n  presents thy shadow to my sightless view,\\n  which like a jewel (hung in ghastly night)\\n  makes black night beauteous, and her old face new.\\n    lo thus by day my limbs, by night my mind,\\n    for thee, and for my self, no quiet find.\\n\\n\\n                     28\\n  how can i then return in happy plight\\n  that am debarred the benefit of rest?\\n  when day\\'s oppression is not eased by night,\\n  but day by night and night by day oppressed.\\n  and each (though enemies to either\\'s reign)\\n  do in consent shake hands to torture me,\\n  the one by toil, the other to complain\\n  how far i toil, still farther off from thee.  \\n  i tell the day to please him thou art bright,\\n  and dost him grace when clouds do blot the heaven:\\n  so flatter i the swart-complexioned night,\\n  when sparkling stars twire not thou gild\\'st the even.\\n    but day doth daily draw my sorrows longer,\\n    and night doth nightly make grief\\'s length seem stronger\\n\\n\\n                     29\\n  when in disgrace with fortune and men\\'s eyes,\\n  i all alone beweep my outcast state,\\n  and trouble deaf heaven with my bootless cries,\\n  and look upon my self and curse my fate,\\n  wishing me like to one more rich in hope,\\n  featured like him, like him with friends possessed,\\n  desiring this man\\'s art, and that man\\'s scope,\\n  with what i most enjoy contented least,\\n  yet in these thoughts my self almost despising,\\n  haply i think on thee, and then my state,\\n  (like to the lark at break of day arising\\n  from sullen earth) sings hymns at heaven\\'s gate,  \\n    for thy sweet love remembered such wealth brings,\\n    that then i scorn to change my state with kings.\\n\\n\\n                     30\\n  when to the sessions of sweet silent thought,\\n  i summon up remembrance of things past,\\n  i sigh the lack of many a thing i sought,\\n  and with old woes new wail my dear time\\'s waste:\\n  then can i drown an eye (unused to flow)\\n  for precious friends hid in death\\'s dateless night,\\n  and weep afresh love\\'s long since cancelled woe,\\n  and moan th\\' expense of many a vanished sight.\\n  then can i grieve at grievances foregone,\\n  and heavily from woe to woe tell o\\'er\\n  the sad account of fore-bemoaned moan,\\n  which i new pay as if not paid before.\\n    but if the while i think on thee (dear friend)\\n    all losses are restored, and sorrows end.\\n\\n\\n                     31  \\n  thy bosom is endeared with all hearts,\\n  which i by lacking have supposed dead,\\n  and there reigns love and all love\\'s loving parts,\\n  and all those friends which i thought buried.\\n  how many a holy and obsequious tear\\n  hath dear religious love stol\\'n from mine eye,\\n  as interest of the dead, which now appear,\\n  but things removed that hidden in thee lie.\\n  thou art the grave where buried love doth live,\\n  hung with the trophies of my lovers gone,\\n  who all their parts of me to thee did give,\\n  that due of many, now is thine alone.\\n    their images i loved, i view in thee,\\n    and thou (all they) hast all the all of me.\\n\\n\\n                     32\\n  if thou survive my well-contented day,\\n  when that churl death my bones with dust shall cover\\n  and shalt by fortune once more re-survey\\n  these poor rude lines of thy deceased lover:  \\n  compare them with the bett\\'ring of the time,\\n  and though they be outstripped by every pen,\\n  reserve them for my love, not for their rhyme,\\n  exceeded by the height of happier men.\\n  o then vouchsafe me but this loving thought,\\n  \\'had my friend\\'s muse grown with this growing age,\\n  a dearer birth than this his love had brought\\n  to march in ranks of better equipage:\\n    but since he died and poets better prove,\\n    theirs for their style i\\'ll read, his for his love\\'.\\n\\n\\n                     33\\n  full many a glorious morning have i seen,\\n  flatter the mountain tops with sovereign eye,\\n  kissing with golden face the meadows green;\\n  gilding pale streams with heavenly alchemy:\\n  anon permit the basest clouds to ride,\\n  with ugly rack on his celestial face,\\n  and from the forlorn world his visage hide\\n  stealing unseen to west with this disgrace:  \\n  even so my sun one early morn did shine,\\n  with all triumphant splendour on my brow,\\n  but out alack, he was but one hour mine,\\n  the region cloud hath masked him from me now.\\n    yet him for this, my love no whit disdaineth,\\n    suns of the world may stain, when heaven\\'s sun staineth.\\n\\n\\n                     34\\n  why didst thou promise such a beauteous day,\\n  and make me travel forth without my cloak,\\n  to let base clouds o\\'ertake me in my way,\\n  hiding thy brav\\'ry in their rotten smoke?\\n  \\'tis not enough that through the cloud thou break,\\n  to dry the rain on my storm-beaten face,\\n  for no man well of such a salve can speak,\\n  that heals the wound, and cures not the disgrace:\\n  nor can thy shame give physic to my grief,\\n  though thou repent, yet i have still the loss,\\n  th\\' offender\\'s sorrow lends but weak relief\\n  to him that bears the strong offence\\'s cross.  \\n    ah but those tears are pearl which thy love sheds,\\n    and they are rich, and ransom all ill deeds.\\n\\n\\n                     35\\n  no more be grieved at that which thou hast done,\\n  roses have thorns, and silver fountains mud,\\n  clouds and eclipses stain both moon and sun,\\n  and loathsome canker lives in sweetest bud.\\n  all men make faults, and even i in this,\\n  authorizing thy trespass with compare,\\n  my self corrupting salving thy amiss,\\n  excusing thy sins more than thy sins are:\\n  for to thy sensual fault i bring in sense,\\n  thy adverse party is thy advocate,\\n  and \\'gainst my self a lawful plea commence:\\n  such civil war is in my love and hate,\\n    that i an accessary needs must be,\\n    to that sweet thief which sourly robs from me.\\n\\n\\n                     36  \\n  let me confess that we two must be twain,\\n  although our undivided loves are one:\\n  so shall those blots that do with me remain,\\n  without thy help, by me be borne alone.\\n  in our two loves there is but one respect,\\n  though in our lives a separable spite,\\n  which though it alter not love\\'s sole effect,\\n  yet doth it steal sweet hours from love\\'s delight.\\n  i may not evermore acknowledge thee,\\n  lest my bewailed guilt should do thee shame,\\n  nor thou with public kindness honour me,\\n  unless thou take that honour from thy name:\\n    but do not so, i love thee in such sort,\\n    as thou being mine, mine is thy good report.\\n\\n\\n                     37\\n  as a decrepit father takes delight,\\n  to see his active child do deeds of youth,\\n  so i, made lame by fortune\\'s dearest spite\\n  take all my comfort of thy worth and truth.  \\n  for whether beauty, birth, or wealth, or wit,\\n  or any of these all, or all, or more\\n  entitled in thy parts, do crowned sit,\\n  i make my love engrafted to this store:\\n  so then i am not lame, poor, nor despised,\\n  whilst that this shadow doth such substance give,\\n  that i in thy abundance am sufficed,\\n  and by a part of all thy glory live:\\n    look what is best, that best i wish in thee,\\n    this wish i have, then ten times happy me.\\n\\n\\n                     38\\n  how can my muse want subject to invent\\n  while thou dost breathe that pour\\'st into my verse,\\n  thine own sweet argument, too excellent,\\n  for every vulgar paper to rehearse?\\n  o give thy self the thanks if aught in me,\\n  worthy perusal stand against thy sight,\\n  for who\\'s so dumb that cannot write to thee,\\n  when thou thy self dost give invention light?  \\n  be thou the tenth muse, ten times more in worth\\n  than those old nine which rhymers invocate,\\n  and he that calls on thee, let him bring forth\\n  eternal numbers to outlive long date.\\n    if my slight muse do please these curious days,\\n    the pain be mine, but thine shall be the praise.\\n\\n\\n                     39\\n  o how thy worth with manners may i sing,\\n  when thou art all the better part of me?\\n  what can mine own praise to mine own self bring:\\n  and what is\\'t but mine own when i praise thee?\\n  even for this, let us divided live,\\n  and our dear love lose name of single one,\\n  that by this separation i may give:\\n  that due to thee which thou deserv\\'st alone:\\n  o absence what a torment wouldst thou prove,\\n  were it not thy sour leisure gave sweet leave,\\n  to entertain the time with thoughts of love,\\n  which time and thoughts so sweetly doth deceive.  \\n    and that thou teachest how to make one twain,\\n    by praising him here who doth hence remain.\\n\\n\\n                     40\\n  take all my loves, my love, yea take them all,\\n  what hast thou then more than thou hadst before?\\n  no love, my love, that thou mayst true love call,\\n  all mine was thine, before thou hadst this more:\\n  then if for my love, thou my love receivest,\\n  i cannot blame thee, for my love thou usest,\\n  but yet be blamed, if thou thy self deceivest\\n  by wilful taste of what thy self refusest.\\n  i do forgive thy robbery gentle thief\\n  although thou steal thee all my poverty:\\n  and yet love knows it is a greater grief\\n  to bear greater wrong, than hate\\'s known injury.\\n    lascivious grace, in whom all ill well shows,\\n    kill me with spites yet we must not be foes.\\n\\n\\n                     41  \\n  those pretty wrongs that liberty commits,\\n  when i am sometime absent from thy heart,\\n  thy beauty, and thy years full well befits,\\n  for still temptation follows where thou art.\\n  gentle thou art, and therefore to be won,\\n  beauteous thou art, therefore to be assailed.\\n  and when a woman woos, what woman\\'s son,\\n  will sourly leave her till he have prevailed?\\n  ay me, but yet thou mightst my seat forbear,\\n  and chide thy beauty, and thy straying youth,\\n  who lead thee in their riot even there\\n  where thou art forced to break a twofold truth:\\n    hers by thy beauty tempting her to thee,\\n    thine by thy beauty being false to me.\\n\\n\\n                     42\\n  that thou hast her it is not all my grief,\\n  and yet it may be said i loved her dearly,\\n  that she hath thee is of my wailing chief,\\n  a loss in love that touches me more nearly.  \\n  loving offenders thus i will excuse ye,\\n  thou dost love her, because thou know\\'st i love her,\\n  and for my sake even so doth she abuse me,\\n  suff\\'ring my friend for my sake to approve her.\\n  if i lose thee, my loss is my love\\'s gain,\\n  and losing her, my friend hath found that loss,\\n  both find each other, and i lose both twain,\\n  and both for my sake lay on me this cross,\\n    but here\\'s the joy, my friend and i are one,\\n    sweet flattery, then she loves but me alone.\\n\\n\\n                     43\\n  when most i wink then do mine eyes best see,\\n  for all the day they view things unrespected,\\n  but when i sleep, in dreams they look on thee,\\n  and darkly bright, are bright in dark directed.\\n  then thou whose shadow shadows doth make bright\\n  how would thy shadow\\'s form, form happy show,\\n  to the clear day with thy much clearer light,\\n  when to unseeing eyes thy shade shines so!  \\n  how would (i say) mine eyes be blessed made,\\n  by looking on thee in the living day,\\n  when in dead night thy fair imperfect shade,\\n  through heavy sleep on sightless eyes doth stay!\\n    all days are nights to see till i see thee,\\n    and nights bright days when dreams do show thee me.\\n\\n\\n                     44\\n  if the dull substance of my flesh were thought,\\n  injurious distance should not stop my way,\\n  for then despite of space i would be brought,\\n  from limits far remote, where thou dost stay,\\n  no matter then although my foot did stand\\n  upon the farthest earth removed from thee,\\n  for nimble thought can jump both sea and land,\\n  as soon as think the place where he would be.\\n  but ah, thought kills me that i am not thought\\n  to leap large lengths of miles when thou art gone,\\n  but that so much of earth and water wrought,\\n  i must attend, time\\'s leisure with my moan.  \\n    receiving nought by elements so slow,\\n    but heavy tears, badges of either\\'s woe.\\n\\n\\n                     45\\n  the other two, slight air, and purging fire,\\n  are both with thee, wherever i abide,\\n  the first my thought, the other my desire,\\n  these present-absent with swift motion slide.\\n  for when these quicker elements are gone\\n  in tender embassy of love to thee,\\n  my life being made of four, with two alone,\\n  sinks down to death, oppressed with melancholy.\\n  until life\\'s composition be recured,\\n  by those swift messengers returned from thee,\\n  who even but now come back again assured,\\n  of thy fair health, recounting it to me.\\n    this told, i joy, but then no longer glad,\\n    i send them back again and straight grow sad.\\n\\n\\n                     46  \\n  mine eye and heart are at a mortal war,\\n  how to divide the conquest of thy sight,\\n  mine eye, my heart thy picture\\'s sight would bar,\\n  my heart, mine eye the freedom of that right,\\n  my heart doth plead that thou in him dost lie,\\n  (a closet never pierced with crystal eyes)\\n  but the defendant doth that plea deny,\\n  and says in him thy fair appearance lies.\\n  to side this title is impanelled\\n  a quest of thoughts, all tenants to the heart,\\n  and by their verdict is determined\\n  the clear eye\\'s moiety, and the dear heart\\'s part.\\n    as thus, mine eye\\'s due is thy outward part,\\n    and my heart\\'s right, thy inward love of heart.\\n\\n\\n                     47\\n  betwixt mine eye and heart a league is took,\\n  and each doth good turns now unto the other,\\n  when that mine eye is famished for a look,\\n  or heart in love with sighs himself doth smother;  \\n  with my love\\'s picture then my eye doth feast,\\n  and to the painted banquet bids my heart:\\n  another time mine eye is my heart\\'s guest,\\n  and in his thoughts of love doth share a part.\\n  so either by thy picture or my love,\\n  thy self away, art present still with me,\\n  for thou not farther than my thoughts canst move,\\n  and i am still with them, and they with thee.\\n    or if they sleep, thy picture in my sight\\n    awakes my heart, to heart\\'s and eye\\'s delight.\\n\\n\\n                     48\\n  how careful was i when i took my way,\\n  each trifle under truest bars to thrust,\\n  that to my use it might unused stay\\n  from hands of falsehood, in sure wards of trust!\\n  but thou, to whom my jewels trifles are,\\n  most worthy comfort, now my greatest grief,\\n  thou best of dearest, and mine only care,\\n  art left the prey of every vulgar thief.  \\n  thee have i not locked up in any chest,\\n  save where thou art not, though i feel thou art,\\n  within the gentle closure of my breast,\\n  from whence at pleasure thou mayst come and part,\\n    and even thence thou wilt be stol\\'n i fear,\\n    for truth proves thievish for a prize so dear.\\n\\n\\n                     49\\n  against that time (if ever that time come)\\n  when i shall see thee frown on my defects,\\n  when as thy love hath cast his utmost sum,\\n  called to that audit by advised respects,\\n  against that time when thou shalt strangely pass,\\n  and scarcely greet me with that sun thine eye,\\n  when love converted from the thing it was\\n  shall reasons find of settled gravity;\\n  against that time do i ensconce me here\\n  within the knowledge of mine own desert,\\n  and this my hand, against my self uprear,\\n  to guard the lawful reasons on thy part,  \\n    to leave poor me, thou hast the strength of laws,\\n    since why to love, i can allege no cause.\\n\\n\\n                     50\\n  how heavy do i journey on the way,\\n  when what i seek (my weary travel\\'s end)\\n  doth teach that case and that repose to say\\n  \\'thus far the miles are measured from thy friend.\\'\\n  the beast that bears me, tired with my woe,\\n  plods dully on, to bear that weight in me,\\n  as if by some instinct the wretch did know\\n  his rider loved not speed being made from thee:\\n  the bloody spur cannot provoke him on,\\n  that sometimes anger thrusts into his hide,\\n  which heavily he answers with a groan,\\n  more sharp to me than spurring to his side,\\n    for that same groan doth put this in my mind,\\n    my grief lies onward and my joy behind.\\n\\n\\n                     51  \\n  thus can my love excuse the slow offence,\\n  of my dull bearer, when from thee i speed,\\n  from where thou art, why should i haste me thence?\\n  till i return of posting is no need.\\n  o what excuse will my poor beast then find,\\n  when swift extremity can seem but slow?\\n  then should i spur though mounted on the wind,\\n  in winged speed no motion shall i know,\\n  then can no horse with my desire keep pace,\\n  therefore desire (of perfect\\'st love being made)\\n  shall neigh (no dull flesh) in his fiery race,\\n  but love, for love, thus shall excuse my jade,\\n    since from thee going, he went wilful-slow,\\n    towards thee i\\'ll run, and give him leave to go.\\n\\n\\n                     52\\n  so am i as the rich whose blessed key,\\n  can bring him to his sweet up-locked treasure,\\n  the which he will not every hour survey,\\n  for blunting the fine point of seldom pleasure.  \\n  therefore are feasts so solemn and so rare,\\n  since seldom coming in that long year set,\\n  like stones of worth they thinly placed are,\\n  or captain jewels in the carcanet.\\n  so is the time that keeps you as my chest\\n  or as the wardrobe which the robe doth hide,\\n  to make some special instant special-blest,\\n  by new unfolding his imprisoned pride.\\n    blessed are you whose worthiness gives scope,\\n    being had to triumph, being lacked to hope.\\n\\n\\n                     53\\n  what is your substance, whereof are you made,\\n  that millions of strange shadows on you tend?\\n  since every one, hath every one, one shade,\\n  and you but one, can every shadow lend:\\n  describe adonis and the counterfeit,\\n  is poorly imitated after you,\\n  on helen\\'s cheek all art of beauty set,\\n  and you in grecian tires are painted new:  \\n  speak of the spring, and foison of the year,\\n  the one doth shadow of your beauty show,\\n  the other as your bounty doth appear,\\n  and you in every blessed shape we know.\\n    in all external grace you have some part,\\n    but you like none, none you for constant heart.\\n\\n\\n                     54\\n  o how much more doth beauty beauteous seem,\\n  by that sweet ornament which truth doth give!\\n  the rose looks fair, but fairer we it deem\\n  for that sweet odour, which doth in it live:\\n  the canker blooms have full as deep a dye,\\n  as the perfumed tincture of the roses,\\n  hang on such thorns, and play as wantonly,\\n  when summer\\'s breath their masked buds discloses:\\n  but for their virtue only is their show,\\n  they live unwooed, and unrespected fade,\\n  die to themselves. sweet roses do not so,\\n  of their sweet deaths, are sweetest odours made:  \\n    and so of you, beauteous and lovely youth,\\n    when that shall vade, by verse distills your truth.\\n\\n\\n                     55\\n  not marble, nor the gilded monuments\\n  of princes shall outlive this powerful rhyme,\\n  but you shall shine more bright in these contents\\n  than unswept stone, besmeared with sluttish time.\\n  when wasteful war shall statues overturn,\\n  and broils root out the work of masonry,\\n  nor mars his sword, nor war\\'s quick fire shall burn:\\n  the living record of your memory.\\n  \\'gainst death, and all-oblivious enmity\\n  shall you pace forth, your praise shall still find room,\\n  even in the eyes of all posterity\\n  that wear this world out to the ending doom.\\n    so till the judgment that your self arise,\\n    you live in this, and dwell in lovers\\' eyes.\\n\\n\\n                     56  \\n  sweet love renew thy force, be it not said\\n  thy edge should blunter be than appetite,\\n  which but to-day by feeding is allayed,\\n  to-morrow sharpened in his former might.\\n  so love be thou, although to-day thou fill\\n  thy hungry eyes, even till they wink with fulness,\\n  to-morrow see again, and do not kill\\n  the spirit of love, with a perpetual dulness:\\n  let this sad interim like the ocean be\\n  which parts the shore, where two contracted new,\\n  come daily to the banks, that when they see:\\n  return of love, more blest may be the view.\\n    or call it winter, which being full of care,\\n    makes summer\\'s welcome, thrice more wished, more rare.\\n\\n\\n                     57\\n  being your slave what should i do but tend,\\n  upon the hours, and times of your desire?\\n  i have no precious time at all to spend;\\n  nor services to do till you require.  \\n  nor dare i chide the world-without-end hour,\\n  whilst i (my sovereign) watch the clock for you,\\n  nor think the bitterness of absence sour,\\n  when you have bid your servant once adieu.\\n  nor dare i question with my jealous thought,\\n  where you may be, or your affairs suppose,\\n  but like a sad slave stay and think of nought\\n  save where you are, how happy you make those.\\n    so true a fool is love, that in your will,\\n    (though you do any thing) he thinks no ill.\\n\\n\\n                     58\\n  that god forbid, that made me first your slave,\\n  i should in thought control your times of pleasure,\\n  or at your hand th\\' account of hours to crave,\\n  being your vassal bound to stay your leisure.\\n  o let me suffer (being at your beck)\\n  th\\' imprisoned absence of your liberty,\\n  and patience tame to sufferance bide each check,\\n  without accusing you of injury.  \\n  be where you list, your charter is so strong,\\n  that you your self may privilage your time\\n  to what you will, to you it doth belong,\\n  your self to pardon of self-doing crime.\\n    i am to wait, though waiting so be hell,\\n    not blame your pleasure be it ill or well.\\n\\n\\n                     59\\n  if there be nothing new, but that which is,\\n  hath been before, how are our brains beguiled,\\n  which labouring for invention bear amis\\n  the second burthen of a former child!\\n  o that record could with a backward look,\\n'"
            ],
            "application/vnd.google.colaboratory.intrinsic+json": {
              "type": "string"
            }
          },
          "metadata": {},
          "execution_count": 3
        }
      ]
    },
    {
      "cell_type": "code",
      "source": [
        "# Create character-to-index mapping\n",
        "chars = sorted(set(text))"
      ],
      "metadata": {
        "id": "w9Fa49XSpNry"
      },
      "execution_count": 4,
      "outputs": []
    },
    {
      "cell_type": "code",
      "source": [
        "chars"
      ],
      "metadata": {
        "colab": {
          "base_uri": "https://localhost:8080/"
        },
        "id": "8oLOH_rupNu6",
        "outputId": "62e74cde-a569-4f51-e75a-1f2671262dc4"
      },
      "execution_count": 5,
      "outputs": [
        {
          "output_type": "execute_result",
          "data": {
            "text/plain": [
              "['\\n',\n",
              " ' ',\n",
              " '!',\n",
              " '\"',\n",
              " '#',\n",
              " '%',\n",
              " \"'\",\n",
              " '(',\n",
              " ')',\n",
              " '*',\n",
              " ',',\n",
              " '-',\n",
              " '.',\n",
              " '/',\n",
              " '0',\n",
              " '1',\n",
              " '2',\n",
              " '3',\n",
              " '4',\n",
              " '5',\n",
              " '6',\n",
              " '7',\n",
              " '8',\n",
              " '9',\n",
              " ':',\n",
              " ';',\n",
              " '<',\n",
              " '=',\n",
              " '>',\n",
              " '?',\n",
              " '@',\n",
              " '[',\n",
              " ']',\n",
              " '_',\n",
              " 'a',\n",
              " 'b',\n",
              " 'c',\n",
              " 'd',\n",
              " 'e',\n",
              " 'f',\n",
              " 'g',\n",
              " 'h',\n",
              " 'i',\n",
              " 'j',\n",
              " 'k',\n",
              " 'l',\n",
              " 'm',\n",
              " 'n',\n",
              " 'o',\n",
              " 'p',\n",
              " 'q',\n",
              " 'r',\n",
              " 's',\n",
              " 't',\n",
              " 'u',\n",
              " 'v',\n",
              " 'w',\n",
              " 'x',\n",
              " 'y',\n",
              " 'z',\n",
              " '~']"
            ]
          },
          "metadata": {},
          "execution_count": 5
        }
      ]
    },
    {
      "cell_type": "code",
      "source": [
        "char_to_idx = {char: idx for idx, char in enumerate(chars)}\n",
        "char_to_idx"
      ],
      "metadata": {
        "colab": {
          "base_uri": "https://localhost:8080/"
        },
        "id": "wKgxSLdbpNx1",
        "outputId": "23d3948d-5205-45eb-851d-69ac1609d489"
      },
      "execution_count": 6,
      "outputs": [
        {
          "output_type": "execute_result",
          "data": {
            "text/plain": [
              "{'\\n': 0,\n",
              " ' ': 1,\n",
              " '!': 2,\n",
              " '\"': 3,\n",
              " '#': 4,\n",
              " '%': 5,\n",
              " \"'\": 6,\n",
              " '(': 7,\n",
              " ')': 8,\n",
              " '*': 9,\n",
              " ',': 10,\n",
              " '-': 11,\n",
              " '.': 12,\n",
              " '/': 13,\n",
              " '0': 14,\n",
              " '1': 15,\n",
              " '2': 16,\n",
              " '3': 17,\n",
              " '4': 18,\n",
              " '5': 19,\n",
              " '6': 20,\n",
              " '7': 21,\n",
              " '8': 22,\n",
              " '9': 23,\n",
              " ':': 24,\n",
              " ';': 25,\n",
              " '<': 26,\n",
              " '=': 27,\n",
              " '>': 28,\n",
              " '?': 29,\n",
              " '@': 30,\n",
              " '[': 31,\n",
              " ']': 32,\n",
              " '_': 33,\n",
              " 'a': 34,\n",
              " 'b': 35,\n",
              " 'c': 36,\n",
              " 'd': 37,\n",
              " 'e': 38,\n",
              " 'f': 39,\n",
              " 'g': 40,\n",
              " 'h': 41,\n",
              " 'i': 42,\n",
              " 'j': 43,\n",
              " 'k': 44,\n",
              " 'l': 45,\n",
              " 'm': 46,\n",
              " 'n': 47,\n",
              " 'o': 48,\n",
              " 'p': 49,\n",
              " 'q': 50,\n",
              " 'r': 51,\n",
              " 's': 52,\n",
              " 't': 53,\n",
              " 'u': 54,\n",
              " 'v': 55,\n",
              " 'w': 56,\n",
              " 'x': 57,\n",
              " 'y': 58,\n",
              " 'z': 59,\n",
              " '~': 60}"
            ]
          },
          "metadata": {},
          "execution_count": 6
        }
      ]
    },
    {
      "cell_type": "code",
      "source": [
        "idx_to_char = {idx: char for idx, char in enumerate(chars)}\n",
        "idx_to_char"
      ],
      "metadata": {
        "colab": {
          "base_uri": "https://localhost:8080/"
        },
        "id": "X_kqjaxepN0k",
        "outputId": "e6abcff5-1b19-4a6e-9445-96b1ab93c1f0"
      },
      "execution_count": 7,
      "outputs": [
        {
          "output_type": "execute_result",
          "data": {
            "text/plain": [
              "{0: '\\n',\n",
              " 1: ' ',\n",
              " 2: '!',\n",
              " 3: '\"',\n",
              " 4: '#',\n",
              " 5: '%',\n",
              " 6: \"'\",\n",
              " 7: '(',\n",
              " 8: ')',\n",
              " 9: '*',\n",
              " 10: ',',\n",
              " 11: '-',\n",
              " 12: '.',\n",
              " 13: '/',\n",
              " 14: '0',\n",
              " 15: '1',\n",
              " 16: '2',\n",
              " 17: '3',\n",
              " 18: '4',\n",
              " 19: '5',\n",
              " 20: '6',\n",
              " 21: '7',\n",
              " 22: '8',\n",
              " 23: '9',\n",
              " 24: ':',\n",
              " 25: ';',\n",
              " 26: '<',\n",
              " 27: '=',\n",
              " 28: '>',\n",
              " 29: '?',\n",
              " 30: '@',\n",
              " 31: '[',\n",
              " 32: ']',\n",
              " 33: '_',\n",
              " 34: 'a',\n",
              " 35: 'b',\n",
              " 36: 'c',\n",
              " 37: 'd',\n",
              " 38: 'e',\n",
              " 39: 'f',\n",
              " 40: 'g',\n",
              " 41: 'h',\n",
              " 42: 'i',\n",
              " 43: 'j',\n",
              " 44: 'k',\n",
              " 45: 'l',\n",
              " 46: 'm',\n",
              " 47: 'n',\n",
              " 48: 'o',\n",
              " 49: 'p',\n",
              " 50: 'q',\n",
              " 51: 'r',\n",
              " 52: 's',\n",
              " 53: 't',\n",
              " 54: 'u',\n",
              " 55: 'v',\n",
              " 56: 'w',\n",
              " 57: 'x',\n",
              " 58: 'y',\n",
              " 59: 'z',\n",
              " 60: '~'}"
            ]
          },
          "metadata": {},
          "execution_count": 7
        }
      ]
    },
    {
      "cell_type": "code",
      "source": [
        "len(text) - 100"
      ],
      "metadata": {
        "colab": {
          "base_uri": "https://localhost:8080/"
        },
        "id": "rYbm-JuErAiA",
        "outputId": "76df6287-9548-4cc4-a801-ea23d4403c8e"
      },
      "execution_count": 8,
      "outputs": [
        {
          "output_type": "execute_result",
          "data": {
            "text/plain": [
              "49689"
            ]
          },
          "metadata": {},
          "execution_count": 8
        }
      ]
    },
    {
      "cell_type": "code",
      "source": [
        "text[0:100]"
      ],
      "metadata": {
        "colab": {
          "base_uri": "https://localhost:8080/",
          "height": 36
        },
        "id": "8WmK7tTPrWdo",
        "outputId": "4d6e809b-5c53-48a1-bc02-4b0f346ffd83"
      },
      "execution_count": 9,
      "outputs": [
        {
          "output_type": "execute_result",
          "data": {
            "text/plain": [
              "'this is the 100th etext file presented by project gutenberg, and\\nis presented in cooperation with wo'"
            ],
            "application/vnd.google.colaboratory.intrinsic+json": {
              "type": "string"
            }
          },
          "metadata": {},
          "execution_count": 9
        }
      ]
    },
    {
      "cell_type": "code",
      "source": [
        "text[100]"
      ],
      "metadata": {
        "colab": {
          "base_uri": "https://localhost:8080/",
          "height": 36
        },
        "id": "_JAV9jmerrMh",
        "outputId": "a328f2db-dd92-4b17-eeec-f871b7851c8c"
      },
      "execution_count": 10,
      "outputs": [
        {
          "output_type": "execute_result",
          "data": {
            "text/plain": [
              "'r'"
            ],
            "application/vnd.google.colaboratory.intrinsic+json": {
              "type": "string"
            }
          },
          "metadata": {},
          "execution_count": 10
        }
      ]
    },
    {
      "cell_type": "code",
      "source": [
        "char_to_idx[\"t\"]"
      ],
      "metadata": {
        "colab": {
          "base_uri": "https://localhost:8080/"
        },
        "id": "FuFwSAlpyYba",
        "outputId": "2d4bb638-22e5-49d5-c75d-175caa9f4326"
      },
      "execution_count": 11,
      "outputs": [
        {
          "output_type": "execute_result",
          "data": {
            "text/plain": [
              "53"
            ]
          },
          "metadata": {},
          "execution_count": 11
        }
      ]
    },
    {
      "cell_type": "code",
      "source": [
        "# Convert text to numbers\n",
        "def text_to_sequences(text, seq_length):\n",
        "    input_sequences = []\n",
        "    target_sequences = []\n",
        "    for i in range(len(text) - seq_length):\n",
        "        input_sequences.append([char_to_idx[char] for char in text[i:i+seq_length]])\n",
        "        target_sequences.append(char_to_idx[text[i+seq_length]])\n",
        "        #print(\"*****************input seq*********************************************\")\n",
        "        #print(input_sequences)\n",
        "        #print(f\"The length of input seq is {len(input_sequences)}\")\n",
        "        #print(\"*****************target seq*********************************************\")\n",
        "        #print(target_sequences)\n",
        "        #print(f\"The length of target seq is {len(target_sequences)}\")\n",
        "        #print(\"--------------\")\n",
        "    return np.array(input_sequences), np.array(target_sequences)\n",
        "\n",
        "SEQ_LENGTH = 100  # Length of input sequences\n",
        "X, Y = text_to_sequences(text, SEQ_LENGTH)"
      ],
      "metadata": {
        "id": "MjMCR-hyqwTJ"
      },
      "execution_count": 12,
      "outputs": []
    },
    {
      "cell_type": "code",
      "source": [
        "len(X),len(Y)"
      ],
      "metadata": {
        "id": "EfFN4L6-qwV8",
        "colab": {
          "base_uri": "https://localhost:8080/"
        },
        "outputId": "91f75e7d-5648-41b6-9b1c-a417ca09cb22"
      },
      "execution_count": 13,
      "outputs": [
        {
          "output_type": "execute_result",
          "data": {
            "text/plain": [
              "(49689, 49689)"
            ]
          },
          "metadata": {},
          "execution_count": 13
        }
      ]
    },
    {
      "cell_type": "code",
      "source": [
        "# Normalize data (convert to float and scale)\n",
        "vocab_size = len(chars)\n",
        "vocab_size"
      ],
      "metadata": {
        "id": "9uA4xVENqwYI",
        "colab": {
          "base_uri": "https://localhost:8080/"
        },
        "outputId": "e4bce348-7cad-473c-b272-25a3148e40b3"
      },
      "execution_count": 14,
      "outputs": [
        {
          "output_type": "execute_result",
          "data": {
            "text/plain": [
              "61"
            ]
          },
          "metadata": {},
          "execution_count": 14
        }
      ]
    },
    {
      "cell_type": "code",
      "source": [
        "X = tf.keras.utils.to_categorical(X, num_classes=vocab_size)  # One-hot encode input\n",
        "X"
      ],
      "metadata": {
        "id": "SWUSv4ioqwav",
        "colab": {
          "base_uri": "https://localhost:8080/"
        },
        "outputId": "675c640a-b381-42b1-e36e-4992f4258eb7"
      },
      "execution_count": 15,
      "outputs": [
        {
          "output_type": "execute_result",
          "data": {
            "text/plain": [
              "array([[[0., 0., 0., ..., 0., 0., 0.],\n",
              "        [0., 0., 0., ..., 0., 0., 0.],\n",
              "        [0., 0., 0., ..., 0., 0., 0.],\n",
              "        ...,\n",
              "        [0., 1., 0., ..., 0., 0., 0.],\n",
              "        [0., 0., 0., ..., 0., 0., 0.],\n",
              "        [0., 0., 0., ..., 0., 0., 0.]],\n",
              "\n",
              "       [[0., 0., 0., ..., 0., 0., 0.],\n",
              "        [0., 0., 0., ..., 0., 0., 0.],\n",
              "        [0., 0., 0., ..., 0., 0., 0.],\n",
              "        ...,\n",
              "        [0., 0., 0., ..., 0., 0., 0.],\n",
              "        [0., 0., 0., ..., 0., 0., 0.],\n",
              "        [0., 0., 0., ..., 0., 0., 0.]],\n",
              "\n",
              "       [[0., 0., 0., ..., 0., 0., 0.],\n",
              "        [0., 0., 0., ..., 0., 0., 0.],\n",
              "        [0., 1., 0., ..., 0., 0., 0.],\n",
              "        ...,\n",
              "        [0., 0., 0., ..., 0., 0., 0.],\n",
              "        [0., 0., 0., ..., 0., 0., 0.],\n",
              "        [0., 0., 0., ..., 0., 0., 0.]],\n",
              "\n",
              "       ...,\n",
              "\n",
              "       [[0., 0., 0., ..., 0., 0., 0.],\n",
              "        [0., 0., 0., ..., 0., 0., 0.],\n",
              "        [0., 0., 0., ..., 0., 0., 0.],\n",
              "        ...,\n",
              "        [0., 0., 0., ..., 0., 0., 0.],\n",
              "        [0., 0., 0., ..., 0., 0., 0.],\n",
              "        [0., 0., 0., ..., 0., 0., 0.]],\n",
              "\n",
              "       [[0., 0., 0., ..., 0., 0., 0.],\n",
              "        [0., 0., 0., ..., 0., 0., 0.],\n",
              "        [0., 0., 0., ..., 0., 0., 0.],\n",
              "        ...,\n",
              "        [0., 0., 0., ..., 0., 0., 0.],\n",
              "        [0., 0., 0., ..., 0., 0., 0.],\n",
              "        [0., 0., 0., ..., 0., 0., 0.]],\n",
              "\n",
              "       [[0., 0., 0., ..., 0., 0., 0.],\n",
              "        [0., 0., 0., ..., 0., 0., 0.],\n",
              "        [0., 0., 0., ..., 0., 0., 0.],\n",
              "        ...,\n",
              "        [0., 0., 0., ..., 0., 0., 0.],\n",
              "        [0., 0., 0., ..., 0., 0., 0.],\n",
              "        [0., 0., 0., ..., 0., 0., 0.]]])"
            ]
          },
          "metadata": {},
          "execution_count": 15
        }
      ]
    },
    {
      "cell_type": "code",
      "source": [
        "len(X)"
      ],
      "metadata": {
        "id": "9RwsFtROqwcx",
        "colab": {
          "base_uri": "https://localhost:8080/"
        },
        "outputId": "46ae45e5-f652-4f5e-c1c6-57e9ca383fee"
      },
      "execution_count": 16,
      "outputs": [
        {
          "output_type": "execute_result",
          "data": {
            "text/plain": [
              "49689"
            ]
          },
          "metadata": {},
          "execution_count": 16
        }
      ]
    },
    {
      "cell_type": "code",
      "source": [
        "Y = tf.keras.utils.to_categorical(Y, num_classes=vocab_size)"
      ],
      "metadata": {
        "id": "huJCUxYyqwfD"
      },
      "execution_count": 17,
      "outputs": []
    },
    {
      "cell_type": "markdown",
      "source": [
        "###Why stack LSTMs?\n",
        "Stacking multiple LSTM layers allows the model to learn more complex features and patterns. The first LSTM layer captures low-level features of the sequence, while the second LSTM layer can combine those features into higher-level representations.\n",
        "\n",
        "🔹 Summary of the Flow:\n",
        "\n",
        "First LSTM layer processes the input sequence and outputs the hidden states for each time step.\n",
        "\n",
        "Second LSTM layer processes the hidden states from the first LSTM and outputs only the final hidden state.\n",
        "\n",
        "The final hidden state is passed through a Dense layer to produce a vector of probabilities, where each value corresponds to the probability of a specific character in the vocabulary."
      ],
      "metadata": {
        "id": "v_Jqo9cy3uVz"
      }
    },
    {
      "cell_type": "code",
      "source": [
        "# Train model\n",
        "EPOCHS = 20\n",
        "BATCH_SIZE = 64\n",
        "\n",
        "SEQ_LENGTH = 100  # Sequence length\n",
        "LEARNING_RATE = 0.002"
      ],
      "metadata": {
        "id": "g3D6ZEGwLWPO"
      },
      "execution_count": 18,
      "outputs": []
    },
    {
      "cell_type": "code",
      "source": [
        "# Define SimpleRNN Model\n",
        "simple_rnn_model = tf.keras.Sequential([\n",
        "    tf.keras.layers.SimpleRNN(256, input_shape=(SEQ_LENGTH, vocab_size), return_sequences=True),\n",
        "    tf.keras.layers.SimpleRNN(256),\n",
        "    tf.keras.layers.Dense(vocab_size, activation=\"softmax\")\n",
        "])\n",
        "\n",
        "# Compile SimpleRNN model\n",
        "simple_rnn_model.compile(loss=\"categorical_crossentropy\", optimizer=tf.keras.optimizers.Adam(learning_rate=LEARNING_RATE), metrics=[\"accuracy\"])\n",
        "\n",
        "# Train SimpleRNN Model\n",
        "simple_rnn_model.fit(X, Y, batch_size=BATCH_SIZE, epochs=EPOCHS, validation_split=0.2)\n"
      ],
      "metadata": {
        "colab": {
          "base_uri": "https://localhost:8080/"
        },
        "id": "GI9i6xE6LQfl",
        "outputId": "f00aa345-ce18-417d-f6e0-62f00b10875e"
      },
      "execution_count": 19,
      "outputs": [
        {
          "output_type": "stream",
          "name": "stderr",
          "text": [
            "/usr/local/lib/python3.11/dist-packages/keras/src/layers/rnn/rnn.py:200: UserWarning: Do not pass an `input_shape`/`input_dim` argument to a layer. When using Sequential models, prefer using an `Input(shape)` object as the first layer in the model instead.\n",
            "  super().__init__(**kwargs)\n"
          ]
        },
        {
          "output_type": "stream",
          "name": "stdout",
          "text": [
            "Epoch 1/20\n",
            "\u001b[1m622/622\u001b[0m \u001b[32m━━━━━━━━━━━━━━━━━━━━\u001b[0m\u001b[37m\u001b[0m \u001b[1m22s\u001b[0m 28ms/step - accuracy: 0.2030 - loss: 3.0805 - val_accuracy: 0.1830 - val_loss: 3.0289\n",
            "Epoch 2/20\n",
            "\u001b[1m622/622\u001b[0m \u001b[32m━━━━━━━━━━━━━━━━━━━━\u001b[0m\u001b[37m\u001b[0m \u001b[1m15s\u001b[0m 22ms/step - accuracy: 0.2062 - loss: 3.0693 - val_accuracy: 0.2310 - val_loss: 2.9559\n",
            "Epoch 3/20\n",
            "\u001b[1m622/622\u001b[0m \u001b[32m━━━━━━━━━━━━━━━━━━━━\u001b[0m\u001b[37m\u001b[0m \u001b[1m14s\u001b[0m 23ms/step - accuracy: 0.2035 - loss: 3.0571 - val_accuracy: 0.2310 - val_loss: 3.0168\n",
            "Epoch 4/20\n",
            "\u001b[1m622/622\u001b[0m \u001b[32m━━━━━━━━━━━━━━━━━━━━\u001b[0m\u001b[37m\u001b[0m \u001b[1m14s\u001b[0m 22ms/step - accuracy: 0.2079 - loss: 3.0592 - val_accuracy: 0.2310 - val_loss: 2.9966\n",
            "Epoch 5/20\n",
            "\u001b[1m622/622\u001b[0m \u001b[32m━━━━━━━━━━━━━━━━━━━━\u001b[0m\u001b[37m\u001b[0m \u001b[1m21s\u001b[0m 23ms/step - accuracy: 0.2083 - loss: 3.0687 - val_accuracy: 0.2310 - val_loss: 2.9600\n",
            "Epoch 6/20\n",
            "\u001b[1m622/622\u001b[0m \u001b[32m━━━━━━━━━━━━━━━━━━━━\u001b[0m\u001b[37m\u001b[0m \u001b[1m14s\u001b[0m 22ms/step - accuracy: 0.2030 - loss: 3.0640 - val_accuracy: 0.2310 - val_loss: 2.9915\n",
            "Epoch 7/20\n",
            "\u001b[1m622/622\u001b[0m \u001b[32m━━━━━━━━━━━━━━━━━━━━\u001b[0m\u001b[37m\u001b[0m \u001b[1m21s\u001b[0m 23ms/step - accuracy: 0.2095 - loss: 3.0540 - val_accuracy: 0.2310 - val_loss: 2.9715\n",
            "Epoch 8/20\n",
            "\u001b[1m622/622\u001b[0m \u001b[32m━━━━━━━━━━━━━━━━━━━━\u001b[0m\u001b[37m\u001b[0m \u001b[1m20s\u001b[0m 23ms/step - accuracy: 0.2133 - loss: 3.0533 - val_accuracy: 0.2310 - val_loss: 2.9972\n",
            "Epoch 9/20\n",
            "\u001b[1m622/622\u001b[0m \u001b[32m━━━━━━━━━━━━━━━━━━━━\u001b[0m\u001b[37m\u001b[0m \u001b[1m21s\u001b[0m 23ms/step - accuracy: 0.2024 - loss: 3.0733 - val_accuracy: 0.2310 - val_loss: 2.9779\n",
            "Epoch 10/20\n",
            "\u001b[1m622/622\u001b[0m \u001b[32m━━━━━━━━━━━━━━━━━━━━\u001b[0m\u001b[37m\u001b[0m \u001b[1m14s\u001b[0m 23ms/step - accuracy: 0.2020 - loss: 3.0694 - val_accuracy: 0.2310 - val_loss: 2.9626\n",
            "Epoch 11/20\n",
            "\u001b[1m622/622\u001b[0m \u001b[32m━━━━━━━━━━━━━━━━━━━━\u001b[0m\u001b[37m\u001b[0m \u001b[1m14s\u001b[0m 23ms/step - accuracy: 0.2089 - loss: 3.0562 - val_accuracy: 0.2310 - val_loss: 2.9893\n",
            "Epoch 12/20\n",
            "\u001b[1m622/622\u001b[0m \u001b[32m━━━━━━━━━━━━━━━━━━━━\u001b[0m\u001b[37m\u001b[0m \u001b[1m14s\u001b[0m 23ms/step - accuracy: 0.2075 - loss: 3.0612 - val_accuracy: 0.2310 - val_loss: 2.9818\n",
            "Epoch 13/20\n",
            "\u001b[1m622/622\u001b[0m \u001b[32m━━━━━━━━━━━━━━━━━━━━\u001b[0m\u001b[37m\u001b[0m \u001b[1m21s\u001b[0m 23ms/step - accuracy: 0.2104 - loss: 3.0560 - val_accuracy: 0.2310 - val_loss: 2.9770\n",
            "Epoch 14/20\n",
            "\u001b[1m622/622\u001b[0m \u001b[32m━━━━━━━━━━━━━━━━━━━━\u001b[0m\u001b[37m\u001b[0m \u001b[1m14s\u001b[0m 23ms/step - accuracy: 0.2066 - loss: 3.0473 - val_accuracy: 0.2310 - val_loss: 3.0708\n",
            "Epoch 15/20\n",
            "\u001b[1m622/622\u001b[0m \u001b[32m━━━━━━━━━━━━━━━━━━━━\u001b[0m\u001b[37m\u001b[0m \u001b[1m21s\u001b[0m 23ms/step - accuracy: 0.2052 - loss: 3.0515 - val_accuracy: 0.2310 - val_loss: 2.9983\n",
            "Epoch 16/20\n",
            "\u001b[1m622/622\u001b[0m \u001b[32m━━━━━━━━━━━━━━━━━━━━\u001b[0m\u001b[37m\u001b[0m \u001b[1m14s\u001b[0m 23ms/step - accuracy: 0.2099 - loss: 3.0479 - val_accuracy: 0.2310 - val_loss: 2.9747\n",
            "Epoch 17/20\n",
            "\u001b[1m622/622\u001b[0m \u001b[32m━━━━━━━━━━━━━━━━━━━━\u001b[0m\u001b[37m\u001b[0m \u001b[1m14s\u001b[0m 23ms/step - accuracy: 0.2131 - loss: 3.0461 - val_accuracy: 0.1788 - val_loss: 3.0224\n",
            "Epoch 18/20\n",
            "\u001b[1m622/622\u001b[0m \u001b[32m━━━━━━━━━━━━━━━━━━━━\u001b[0m\u001b[37m\u001b[0m \u001b[1m20s\u001b[0m 23ms/step - accuracy: 0.2068 - loss: 3.0616 - val_accuracy: 0.2310 - val_loss: 2.9727\n",
            "Epoch 19/20\n",
            "\u001b[1m622/622\u001b[0m \u001b[32m━━━━━━━━━━━━━━━━━━━━\u001b[0m\u001b[37m\u001b[0m \u001b[1m14s\u001b[0m 23ms/step - accuracy: 0.2087 - loss: 3.0518 - val_accuracy: 0.2310 - val_loss: 2.9981\n",
            "Epoch 20/20\n",
            "\u001b[1m622/622\u001b[0m \u001b[32m━━━━━━━━━━━━━━━━━━━━\u001b[0m\u001b[37m\u001b[0m \u001b[1m14s\u001b[0m 23ms/step - accuracy: 0.2075 - loss: 3.0656 - val_accuracy: 0.2310 - val_loss: 2.9967\n"
          ]
        },
        {
          "output_type": "execute_result",
          "data": {
            "text/plain": [
              "<keras.src.callbacks.history.History at 0x7a9d990e7a50>"
            ]
          },
          "metadata": {},
          "execution_count": 19
        }
      ]
    },
    {
      "cell_type": "code",
      "source": [
        "# Define GRU Model\n",
        "gru_model = tf.keras.Sequential([\n",
        "    tf.keras.layers.GRU(256, input_shape=(SEQ_LENGTH, vocab_size), return_sequences=True),\n",
        "    tf.keras.layers.GRU(256),\n",
        "    tf.keras.layers.Dense(vocab_size, activation=\"softmax\")\n",
        "])\n",
        "\n",
        "# Compile GRU model\n",
        "gru_model.compile(loss=\"categorical_crossentropy\", optimizer=tf.keras.optimizers.Adam(learning_rate=LEARNING_RATE), metrics=[\"accuracy\"])\n",
        "\n",
        "# Train GRU Model\n",
        "gru_model.fit(X, Y, batch_size=BATCH_SIZE, epochs=EPOCHS, validation_split=0.2)\n"
      ],
      "metadata": {
        "colab": {
          "base_uri": "https://localhost:8080/"
        },
        "id": "a9F3znMkLw_B",
        "outputId": "5e86f198-387b-41e3-d9f9-57e3ee05a35e"
      },
      "execution_count": 20,
      "outputs": [
        {
          "output_type": "stream",
          "name": "stdout",
          "text": [
            "Epoch 1/20\n",
            "\u001b[1m622/622\u001b[0m \u001b[32m━━━━━━━━━━━━━━━━━━━━\u001b[0m\u001b[37m\u001b[0m \u001b[1m18s\u001b[0m 23ms/step - accuracy: 0.3006 - loss: 2.5638 - val_accuracy: 0.4414 - val_loss: 1.8753\n",
            "Epoch 2/20\n",
            "\u001b[1m622/622\u001b[0m \u001b[32m━━━━━━━━━━━━━━━━━━━━\u001b[0m\u001b[37m\u001b[0m \u001b[1m13s\u001b[0m 21ms/step - accuracy: 0.4531 - loss: 1.8616 - val_accuracy: 0.4853 - val_loss: 1.7466\n",
            "Epoch 3/20\n",
            "\u001b[1m622/622\u001b[0m \u001b[32m━━━━━━━━━━━━━━━━━━━━\u001b[0m\u001b[37m\u001b[0m \u001b[1m13s\u001b[0m 21ms/step - accuracy: 0.5082 - loss: 1.6362 - val_accuracy: 0.4858 - val_loss: 1.7048\n",
            "Epoch 4/20\n",
            "\u001b[1m622/622\u001b[0m \u001b[32m━━━━━━━━━━━━━━━━━━━━\u001b[0m\u001b[37m\u001b[0m \u001b[1m21s\u001b[0m 22ms/step - accuracy: 0.5509 - loss: 1.4754 - val_accuracy: 0.5044 - val_loss: 1.6870\n",
            "Epoch 5/20\n",
            "\u001b[1m622/622\u001b[0m \u001b[32m━━━━━━━━━━━━━━━━━━━━\u001b[0m\u001b[37m\u001b[0m \u001b[1m22s\u001b[0m 23ms/step - accuracy: 0.5934 - loss: 1.3172 - val_accuracy: 0.5060 - val_loss: 1.6592\n",
            "Epoch 6/20\n",
            "\u001b[1m622/622\u001b[0m \u001b[32m━━━━━━━━━━━━━━━━━━━━\u001b[0m\u001b[37m\u001b[0m \u001b[1m19s\u001b[0m 22ms/step - accuracy: 0.6257 - loss: 1.1813 - val_accuracy: 0.5087 - val_loss: 1.7129\n",
            "Epoch 7/20\n",
            "\u001b[1m622/622\u001b[0m \u001b[32m━━━━━━━━━━━━━━━━━━━━\u001b[0m\u001b[37m\u001b[0m \u001b[1m15s\u001b[0m 24ms/step - accuracy: 0.6648 - loss: 1.0471 - val_accuracy: 0.5092 - val_loss: 1.7713\n",
            "Epoch 8/20\n",
            "\u001b[1m622/622\u001b[0m \u001b[32m━━━━━━━━━━━━━━━━━━━━\u001b[0m\u001b[37m\u001b[0m \u001b[1m15s\u001b[0m 23ms/step - accuracy: 0.7069 - loss: 0.9235 - val_accuracy: 0.5080 - val_loss: 1.8315\n",
            "Epoch 9/20\n",
            "\u001b[1m622/622\u001b[0m \u001b[32m━━━━━━━━━━━━━━━━━━━━\u001b[0m\u001b[37m\u001b[0m \u001b[1m20s\u001b[0m 23ms/step - accuracy: 0.7406 - loss: 0.8227 - val_accuracy: 0.4982 - val_loss: 1.9033\n",
            "Epoch 10/20\n",
            "\u001b[1m622/622\u001b[0m \u001b[32m━━━━━━━━━━━━━━━━━━━━\u001b[0m\u001b[37m\u001b[0m \u001b[1m21s\u001b[0m 23ms/step - accuracy: 0.7731 - loss: 0.7122 - val_accuracy: 0.5027 - val_loss: 1.9997\n",
            "Epoch 11/20\n",
            "\u001b[1m622/622\u001b[0m \u001b[32m━━━━━━━━━━━━━━━━━━━━\u001b[0m\u001b[37m\u001b[0m \u001b[1m15s\u001b[0m 23ms/step - accuracy: 0.8032 - loss: 0.6254 - val_accuracy: 0.4927 - val_loss: 2.0992\n",
            "Epoch 12/20\n",
            "\u001b[1m622/622\u001b[0m \u001b[32m━━━━━━━━━━━━━━━━━━━━\u001b[0m\u001b[37m\u001b[0m \u001b[1m19s\u001b[0m 22ms/step - accuracy: 0.8172 - loss: 0.5739 - val_accuracy: 0.4869 - val_loss: 2.2087\n",
            "Epoch 13/20\n",
            "\u001b[1m622/622\u001b[0m \u001b[32m━━━━━━━━━━━━━━━━━━━━\u001b[0m\u001b[37m\u001b[0m \u001b[1m13s\u001b[0m 21ms/step - accuracy: 0.8424 - loss: 0.4950 - val_accuracy: 0.4790 - val_loss: 2.3527\n",
            "Epoch 14/20\n",
            "\u001b[1m622/622\u001b[0m \u001b[32m━━━━━━━━━━━━━━━━━━━━\u001b[0m\u001b[37m\u001b[0m \u001b[1m20s\u001b[0m 21ms/step - accuracy: 0.8495 - loss: 0.4645 - val_accuracy: 0.4879 - val_loss: 2.4084\n",
            "Epoch 15/20\n",
            "\u001b[1m622/622\u001b[0m \u001b[32m━━━━━━━━━━━━━━━━━━━━\u001b[0m\u001b[37m\u001b[0m \u001b[1m22s\u001b[0m 23ms/step - accuracy: 0.8564 - loss: 0.4347 - val_accuracy: 0.4885 - val_loss: 2.4718\n",
            "Epoch 16/20\n",
            "\u001b[1m622/622\u001b[0m \u001b[32m━━━━━━━━━━━━━━━━━━━━\u001b[0m\u001b[37m\u001b[0m \u001b[1m19s\u001b[0m 22ms/step - accuracy: 0.8750 - loss: 0.3904 - val_accuracy: 0.4810 - val_loss: 2.5818\n",
            "Epoch 17/20\n",
            "\u001b[1m622/622\u001b[0m \u001b[32m━━━━━━━━━━━━━━━━━━━━\u001b[0m\u001b[37m\u001b[0m \u001b[1m15s\u001b[0m 24ms/step - accuracy: 0.8615 - loss: 0.4178 - val_accuracy: 0.4777 - val_loss: 2.6704\n",
            "Epoch 18/20\n",
            "\u001b[1m622/622\u001b[0m \u001b[32m━━━━━━━━━━━━━━━━━━━━\u001b[0m\u001b[37m\u001b[0m \u001b[1m20s\u001b[0m 23ms/step - accuracy: 0.8645 - loss: 0.4087 - val_accuracy: 0.4724 - val_loss: 2.7460\n",
            "Epoch 19/20\n",
            "\u001b[1m622/622\u001b[0m \u001b[32m━━━━━━━━━━━━━━━━━━━━\u001b[0m\u001b[37m\u001b[0m \u001b[1m21s\u001b[0m 23ms/step - accuracy: 0.8798 - loss: 0.3693 - val_accuracy: 0.4755 - val_loss: 2.7844\n",
            "Epoch 20/20\n",
            "\u001b[1m622/622\u001b[0m \u001b[32m━━━━━━━━━━━━━━━━━━━━\u001b[0m\u001b[37m\u001b[0m \u001b[1m19s\u001b[0m 22ms/step - accuracy: 0.8858 - loss: 0.3468 - val_accuracy: 0.4742 - val_loss: 2.8607\n"
          ]
        },
        {
          "output_type": "execute_result",
          "data": {
            "text/plain": [
              "<keras.src.callbacks.history.History at 0x7a9d99c83d90>"
            ]
          },
          "metadata": {},
          "execution_count": 20
        }
      ]
    },
    {
      "cell_type": "code",
      "source": [
        "# Define Bidirectional LSTM Model\n",
        "bilstm_model = tf.keras.Sequential([\n",
        "    tf.keras.layers.Bidirectional(tf.keras.layers.LSTM(256, return_sequences=True), input_shape=(SEQ_LENGTH, vocab_size)),\n",
        "    tf.keras.layers.Bidirectional(tf.keras.layers.LSTM(256)),\n",
        "    tf.keras.layers.Dense(vocab_size, activation=\"softmax\")\n",
        "])\n",
        "\n",
        "# Compile Bidirectional LSTM model\n",
        "bilstm_model.compile(loss=\"categorical_crossentropy\", optimizer=tf.keras.optimizers.Adam(learning_rate=LEARNING_RATE), metrics=[\"accuracy\"])\n",
        "\n",
        "# Train Bidirectional LSTM Model\n",
        "bilstm_model.fit(X, Y, batch_size=BATCH_SIZE, epochs=EPOCHS, validation_split=0.2)\n"
      ],
      "metadata": {
        "colab": {
          "base_uri": "https://localhost:8080/"
        },
        "id": "6X6So0w8L1oe",
        "outputId": "e4b9ede7-6146-4b5c-bcd9-385fc90cd412"
      },
      "execution_count": 21,
      "outputs": [
        {
          "output_type": "stream",
          "name": "stderr",
          "text": [
            "/usr/local/lib/python3.11/dist-packages/keras/src/layers/rnn/bidirectional.py:107: UserWarning: Do not pass an `input_shape`/`input_dim` argument to a layer. When using Sequential models, prefer using an `Input(shape)` object as the first layer in the model instead.\n",
            "  super().__init__(**kwargs)\n"
          ]
        },
        {
          "output_type": "stream",
          "name": "stdout",
          "text": [
            "Epoch 1/20\n",
            "\u001b[1m622/622\u001b[0m \u001b[32m━━━━━━━━━━━━━━━━━━━━\u001b[0m\u001b[37m\u001b[0m \u001b[1m39s\u001b[0m 58ms/step - accuracy: 0.2611 - loss: 2.7570 - val_accuracy: 0.4189 - val_loss: 1.9590\n",
            "Epoch 2/20\n",
            "\u001b[1m622/622\u001b[0m \u001b[32m━━━━━━━━━━━━━━━━━━━━\u001b[0m\u001b[37m\u001b[0m \u001b[1m35s\u001b[0m 56ms/step - accuracy: 0.4253 - loss: 1.9663 - val_accuracy: 0.4802 - val_loss: 1.7567\n",
            "Epoch 3/20\n",
            "\u001b[1m622/622\u001b[0m \u001b[32m━━━━━━━━━━━━━━━━━━━━\u001b[0m\u001b[37m\u001b[0m \u001b[1m33s\u001b[0m 52ms/step - accuracy: 0.4875 - loss: 1.7313 - val_accuracy: 0.4992 - val_loss: 1.6700\n",
            "Epoch 4/20\n",
            "\u001b[1m622/622\u001b[0m \u001b[32m━━━━━━━━━━━━━━━━━━━━\u001b[0m\u001b[37m\u001b[0m \u001b[1m33s\u001b[0m 53ms/step - accuracy: 0.5348 - loss: 1.5300 - val_accuracy: 0.5087 - val_loss: 1.6341\n",
            "Epoch 5/20\n",
            "\u001b[1m622/622\u001b[0m \u001b[32m━━━━━━━━━━━━━━━━━━━━\u001b[0m\u001b[37m\u001b[0m \u001b[1m43s\u001b[0m 56ms/step - accuracy: 0.5790 - loss: 1.3741 - val_accuracy: 0.5264 - val_loss: 1.5877\n",
            "Epoch 6/20\n",
            "\u001b[1m622/622\u001b[0m \u001b[32m━━━━━━━━━━━━━━━━━━━━\u001b[0m\u001b[37m\u001b[0m \u001b[1m41s\u001b[0m 56ms/step - accuracy: 0.6166 - loss: 1.2304 - val_accuracy: 0.5158 - val_loss: 1.6308\n",
            "Epoch 7/20\n",
            "\u001b[1m622/622\u001b[0m \u001b[32m━━━━━━━━━━━━━━━━━━━━\u001b[0m\u001b[37m\u001b[0m \u001b[1m39s\u001b[0m 53ms/step - accuracy: 0.6588 - loss: 1.0802 - val_accuracy: 0.5191 - val_loss: 1.6580\n",
            "Epoch 8/20\n",
            "\u001b[1m622/622\u001b[0m \u001b[32m━━━━━━━━━━━━━━━━━━━━\u001b[0m\u001b[37m\u001b[0m \u001b[1m33s\u001b[0m 52ms/step - accuracy: 0.7095 - loss: 0.9240 - val_accuracy: 0.5071 - val_loss: 1.7378\n",
            "Epoch 9/20\n",
            "\u001b[1m622/622\u001b[0m \u001b[32m━━━━━━━━━━━━━━━━━━━━\u001b[0m\u001b[37m\u001b[0m \u001b[1m41s\u001b[0m 53ms/step - accuracy: 0.7743 - loss: 0.7326 - val_accuracy: 0.4947 - val_loss: 1.8497\n",
            "Epoch 10/20\n",
            "\u001b[1m622/622\u001b[0m \u001b[32m━━━━━━━━━━━━━━━━━━━━\u001b[0m\u001b[37m\u001b[0m \u001b[1m33s\u001b[0m 53ms/step - accuracy: 0.8295 - loss: 0.5635 - val_accuracy: 0.4991 - val_loss: 1.9695\n",
            "Epoch 11/20\n",
            "\u001b[1m622/622\u001b[0m \u001b[32m━━━━━━━━━━━━━━━━━━━━\u001b[0m\u001b[37m\u001b[0m \u001b[1m41s\u001b[0m 53ms/step - accuracy: 0.8938 - loss: 0.3823 - val_accuracy: 0.4901 - val_loss: 2.1873\n",
            "Epoch 12/20\n",
            "\u001b[1m622/622\u001b[0m \u001b[32m━━━━━━━━━━━━━━━━━━━━\u001b[0m\u001b[37m\u001b[0m \u001b[1m43s\u001b[0m 56ms/step - accuracy: 0.9422 - loss: 0.2343 - val_accuracy: 0.4880 - val_loss: 2.3469\n",
            "Epoch 13/20\n",
            "\u001b[1m622/622\u001b[0m \u001b[32m━━━━━━━━━━━━━━━━━━━━\u001b[0m\u001b[37m\u001b[0m \u001b[1m32s\u001b[0m 52ms/step - accuracy: 0.9629 - loss: 0.1635 - val_accuracy: 0.4835 - val_loss: 2.5261\n",
            "Epoch 14/20\n",
            "\u001b[1m622/622\u001b[0m \u001b[32m━━━━━━━━━━━━━━━━━━━━\u001b[0m\u001b[37m\u001b[0m \u001b[1m41s\u001b[0m 53ms/step - accuracy: 0.9809 - loss: 0.0964 - val_accuracy: 0.4805 - val_loss: 2.6727\n",
            "Epoch 15/20\n",
            "\u001b[1m622/622\u001b[0m \u001b[32m━━━━━━━━━━━━━━━━━━━━\u001b[0m\u001b[37m\u001b[0m \u001b[1m41s\u001b[0m 52ms/step - accuracy: 0.9709 - loss: 0.1169 - val_accuracy: 0.4861 - val_loss: 2.7119\n",
            "Epoch 16/20\n",
            "\u001b[1m622/622\u001b[0m \u001b[32m━━━━━━━━━━━━━━━━━━━━\u001b[0m\u001b[37m\u001b[0m \u001b[1m33s\u001b[0m 52ms/step - accuracy: 0.9691 - loss: 0.1155 - val_accuracy: 0.4827 - val_loss: 2.8798\n",
            "Epoch 17/20\n",
            "\u001b[1m622/622\u001b[0m \u001b[32m━━━━━━━━━━━━━━━━━━━━\u001b[0m\u001b[37m\u001b[0m \u001b[1m41s\u001b[0m 52ms/step - accuracy: 0.9761 - loss: 0.0945 - val_accuracy: 0.4767 - val_loss: 3.0234\n",
            "Epoch 18/20\n",
            "\u001b[1m622/622\u001b[0m \u001b[32m━━━━━━━━━━━━━━━━━━━━\u001b[0m\u001b[37m\u001b[0m \u001b[1m43s\u001b[0m 56ms/step - accuracy: 0.9765 - loss: 0.0901 - val_accuracy: 0.4798 - val_loss: 3.0648\n",
            "Epoch 19/20\n",
            "\u001b[1m622/622\u001b[0m \u001b[32m━━━━━━━━━━━━━━━━━━━━\u001b[0m\u001b[37m\u001b[0m \u001b[1m39s\u001b[0m 52ms/step - accuracy: 0.9887 - loss: 0.0539 - val_accuracy: 0.4779 - val_loss: 3.1900\n",
            "Epoch 20/20\n",
            "\u001b[1m622/622\u001b[0m \u001b[32m━━━━━━━━━━━━━━━━━━━━\u001b[0m\u001b[37m\u001b[0m \u001b[1m41s\u001b[0m 53ms/step - accuracy: 0.9757 - loss: 0.0866 - val_accuracy: 0.4790 - val_loss: 3.1620\n"
          ]
        },
        {
          "output_type": "execute_result",
          "data": {
            "text/plain": [
              "<keras.src.callbacks.history.History at 0x7a9d946e9010>"
            ]
          },
          "metadata": {},
          "execution_count": 21
        }
      ]
    },
    {
      "cell_type": "code",
      "source": [
        "# Define LSTM Model\n",
        "lstm_model = tf.keras.Sequential([\n",
        "    tf.keras.layers.LSTM(256, input_shape=(SEQ_LENGTH, vocab_size), return_sequences=True),\n",
        "    tf.keras.layers.LSTM(256),\n",
        "    tf.keras.layers.Dense(vocab_size, activation=\"softmax\")\n",
        "])\n",
        "\n",
        "# Compile LSTM model\n",
        "lstm_model.compile(loss=\"categorical_crossentropy\", optimizer=tf.keras.optimizers.Adam(learning_rate=LEARNING_RATE), metrics=[\"accuracy\"])\n",
        "\n",
        "# Train LSTM Model\n",
        "lstm_model.fit(X, Y, batch_size=BATCH_SIZE, epochs=EPOCHS, validation_split=0.2)\n"
      ],
      "metadata": {
        "id": "XhQ3dl1_qwhN",
        "colab": {
          "base_uri": "https://localhost:8080/"
        },
        "outputId": "93465396-2f05-4e53-f011-1908268cc5fb"
      },
      "execution_count": 22,
      "outputs": [
        {
          "output_type": "stream",
          "name": "stdout",
          "text": [
            "Epoch 1/20\n",
            "\u001b[1m622/622\u001b[0m \u001b[32m━━━━━━━━━━━━━━━━━━━━\u001b[0m\u001b[37m\u001b[0m \u001b[1m19s\u001b[0m 27ms/step - accuracy: 0.2389 - loss: 2.8702 - val_accuracy: 0.4081 - val_loss: 2.0480\n",
            "Epoch 2/20\n",
            "\u001b[1m622/622\u001b[0m \u001b[32m━━━━━━━━━━━━━━━━━━━━\u001b[0m\u001b[37m\u001b[0m \u001b[1m18s\u001b[0m 23ms/step - accuracy: 0.4090 - loss: 2.0400 - val_accuracy: 0.4548 - val_loss: 1.8365\n",
            "Epoch 3/20\n",
            "\u001b[1m622/622\u001b[0m \u001b[32m━━━━━━━━━━━━━━━━━━━━\u001b[0m\u001b[37m\u001b[0m \u001b[1m22s\u001b[0m 25ms/step - accuracy: 0.4691 - loss: 1.7865 - val_accuracy: 0.4906 - val_loss: 1.7088\n",
            "Epoch 4/20\n",
            "\u001b[1m622/622\u001b[0m \u001b[32m━━━━━━━━━━━━━━━━━━━━\u001b[0m\u001b[37m\u001b[0m \u001b[1m16s\u001b[0m 25ms/step - accuracy: 0.5162 - loss: 1.6181 - val_accuracy: 0.5008 - val_loss: 1.6598\n",
            "Epoch 5/20\n",
            "\u001b[1m622/622\u001b[0m \u001b[32m━━━━━━━━━━━━━━━━━━━━\u001b[0m\u001b[37m\u001b[0m \u001b[1m20s\u001b[0m 25ms/step - accuracy: 0.5647 - loss: 1.4489 - val_accuracy: 0.5056 - val_loss: 1.6410\n",
            "Epoch 6/20\n",
            "\u001b[1m622/622\u001b[0m \u001b[32m━━━━━━━━━━━━━━━━━━━━\u001b[0m\u001b[37m\u001b[0m \u001b[1m21s\u001b[0m 25ms/step - accuracy: 0.5951 - loss: 1.3175 - val_accuracy: 0.5200 - val_loss: 1.6336\n",
            "Epoch 7/20\n",
            "\u001b[1m622/622\u001b[0m \u001b[32m━━━━━━━━━━━━━━━━━━━━\u001b[0m\u001b[37m\u001b[0m \u001b[1m20s\u001b[0m 24ms/step - accuracy: 0.6364 - loss: 1.1764 - val_accuracy: 0.5119 - val_loss: 1.6648\n",
            "Epoch 8/20\n",
            "\u001b[1m622/622\u001b[0m \u001b[32m━━━━━━━━━━━━━━━━━━━━\u001b[0m\u001b[37m\u001b[0m \u001b[1m16s\u001b[0m 25ms/step - accuracy: 0.6795 - loss: 1.0294 - val_accuracy: 0.5138 - val_loss: 1.7207\n",
            "Epoch 9/20\n",
            "\u001b[1m622/622\u001b[0m \u001b[32m━━━━━━━━━━━━━━━━━━━━\u001b[0m\u001b[37m\u001b[0m \u001b[1m16s\u001b[0m 26ms/step - accuracy: 0.7253 - loss: 0.8863 - val_accuracy: 0.5060 - val_loss: 1.7816\n",
            "Epoch 10/20\n",
            "\u001b[1m622/622\u001b[0m \u001b[32m━━━━━━━━━━━━━━━━━━━━\u001b[0m\u001b[37m\u001b[0m \u001b[1m20s\u001b[0m 26ms/step - accuracy: 0.7643 - loss: 0.7629 - val_accuracy: 0.5007 - val_loss: 1.8846\n",
            "Epoch 11/20\n",
            "\u001b[1m622/622\u001b[0m \u001b[32m━━━━━━━━━━━━━━━━━━━━\u001b[0m\u001b[37m\u001b[0m \u001b[1m19s\u001b[0m 24ms/step - accuracy: 0.8041 - loss: 0.6416 - val_accuracy: 0.4967 - val_loss: 1.9912\n",
            "Epoch 12/20\n",
            "\u001b[1m622/622\u001b[0m \u001b[32m━━━━━━━━━━━━━━━━━━━━\u001b[0m\u001b[37m\u001b[0m \u001b[1m15s\u001b[0m 24ms/step - accuracy: 0.8425 - loss: 0.5324 - val_accuracy: 0.4791 - val_loss: 2.1232\n",
            "Epoch 13/20\n",
            "\u001b[1m622/622\u001b[0m \u001b[32m━━━━━━━━━━━━━━━━━━━━\u001b[0m\u001b[37m\u001b[0m \u001b[1m20s\u001b[0m 23ms/step - accuracy: 0.8676 - loss: 0.4468 - val_accuracy: 0.4881 - val_loss: 2.2327\n",
            "Epoch 14/20\n",
            "\u001b[1m622/622\u001b[0m \u001b[32m━━━━━━━━━━━━━━━━━━━━\u001b[0m\u001b[37m\u001b[0m \u001b[1m15s\u001b[0m 24ms/step - accuracy: 0.9013 - loss: 0.3454 - val_accuracy: 0.4816 - val_loss: 2.3543\n",
            "Epoch 15/20\n",
            "\u001b[1m622/622\u001b[0m \u001b[32m━━━━━━━━━━━━━━━━━━━━\u001b[0m\u001b[37m\u001b[0m \u001b[1m22s\u001b[0m 25ms/step - accuracy: 0.9203 - loss: 0.2872 - val_accuracy: 0.4757 - val_loss: 2.4795\n",
            "Epoch 16/20\n",
            "\u001b[1m622/622\u001b[0m \u001b[32m━━━━━━━━━━━━━━━━━━━━\u001b[0m\u001b[37m\u001b[0m \u001b[1m20s\u001b[0m 24ms/step - accuracy: 0.9341 - loss: 0.2401 - val_accuracy: 0.4727 - val_loss: 2.6048\n",
            "Epoch 17/20\n",
            "\u001b[1m622/622\u001b[0m \u001b[32m━━━━━━━━━━━━━━━━━━━━\u001b[0m\u001b[37m\u001b[0m \u001b[1m20s\u001b[0m 24ms/step - accuracy: 0.9411 - loss: 0.2142 - val_accuracy: 0.4739 - val_loss: 2.7186\n",
            "Epoch 18/20\n",
            "\u001b[1m622/622\u001b[0m \u001b[32m━━━━━━━━━━━━━━━━━━━━\u001b[0m\u001b[37m\u001b[0m \u001b[1m21s\u001b[0m 24ms/step - accuracy: 0.9489 - loss: 0.1889 - val_accuracy: 0.4808 - val_loss: 2.7953\n",
            "Epoch 19/20\n",
            "\u001b[1m622/622\u001b[0m \u001b[32m━━━━━━━━━━━━━━━━━━━━\u001b[0m\u001b[37m\u001b[0m \u001b[1m21s\u001b[0m 25ms/step - accuracy: 0.9493 - loss: 0.1758 - val_accuracy: 0.4760 - val_loss: 2.8951\n",
            "Epoch 20/20\n",
            "\u001b[1m622/622\u001b[0m \u001b[32m━━━━━━━━━━━━━━━━━━━━\u001b[0m\u001b[37m\u001b[0m \u001b[1m20s\u001b[0m 25ms/step - accuracy: 0.9600 - loss: 0.1520 - val_accuracy: 0.4771 - val_loss: 3.0024\n"
          ]
        },
        {
          "output_type": "execute_result",
          "data": {
            "text/plain": [
              "<keras.src.callbacks.history.History at 0x7a9d946a5fd0>"
            ]
          },
          "metadata": {},
          "execution_count": 22
        }
      ]
    },
    {
      "cell_type": "code",
      "source": [
        "# Save model\n",
        "simple_rnn_model.save(\"simple_rnn_model.h5\")\n",
        "gru_model.save(\"gru_model.h5\")\n",
        "bilstm_model.save(\"bilstm_model.h5\")\n",
        "lstm_model.save(\"lstm_model.h5\")"
      ],
      "metadata": {
        "id": "JlVBK63nqwjO",
        "colab": {
          "base_uri": "https://localhost:8080/"
        },
        "outputId": "22048370-4f4b-476b-b47c-3f95a9d193e6"
      },
      "execution_count": 23,
      "outputs": [
        {
          "output_type": "stream",
          "name": "stderr",
          "text": [
            "WARNING:absl:You are saving your model as an HDF5 file via `model.save()` or `keras.saving.save_model(model)`. This file format is considered legacy. We recommend using instead the native Keras format, e.g. `model.save('my_model.keras')` or `keras.saving.save_model(model, 'my_model.keras')`. \n",
            "WARNING:absl:You are saving your model as an HDF5 file via `model.save()` or `keras.saving.save_model(model)`. This file format is considered legacy. We recommend using instead the native Keras format, e.g. `model.save('my_model.keras')` or `keras.saving.save_model(model, 'my_model.keras')`. \n",
            "WARNING:absl:You are saving your model as an HDF5 file via `model.save()` or `keras.saving.save_model(model)`. This file format is considered legacy. We recommend using instead the native Keras format, e.g. `model.save('my_model.keras')` or `keras.saving.save_model(model, 'my_model.keras')`. \n",
            "WARNING:absl:You are saving your model as an HDF5 file via `model.save()` or `keras.saving.save_model(model)`. This file format is considered legacy. We recommend using instead the native Keras format, e.g. `model.save('my_model.keras')` or `keras.saving.save_model(model, 'my_model.keras')`. \n"
          ]
        }
      ]
    },
    {
      "cell_type": "code",
      "source": [
        "# Function to generate text\n",
        "def generate_text(start_text, model, length=500):\n",
        "    start_text = start_text.lower()  # Ensure lowercase consistency\n",
        "    generated_text = start_text\n",
        "\n",
        "    # Convert seed text into a sequence\n",
        "    input_seq = [char_to_idx[char] for char in start_text]\n",
        "\n",
        "    # Pad input sequence to SEQ_LENGTH\n",
        "    if len(input_seq) < SEQ_LENGTH:\n",
        "        input_seq = [0] * (SEQ_LENGTH - len(input_seq)) + input_seq  # Left-padding\n",
        "\n",
        "    for _ in range(length):\n",
        "        # Prepare input sequence\n",
        "        input_data = tf.keras.utils.to_categorical([input_seq], num_classes=vocab_size)\n",
        "\n",
        "        # Ensure correct shape\n",
        "        input_data = np.reshape(input_data, (1, SEQ_LENGTH, vocab_size))\n",
        "\n",
        "        # Predict next character\n",
        "        predicted_probs = model.predict(input_data, verbose=0) # 'model' is now the actual model object\n",
        "        predicted_idx = np.argmax(predicted_probs)\n",
        "\n",
        "        # Append character to generated text\n",
        "        next_char = idx_to_char[predicted_idx]\n",
        "        generated_text += next_char\n",
        "\n",
        "        # Update input sequence\n",
        "        input_seq.append(predicted_idx)\n",
        "        input_seq = input_seq[1:]  # Keep sequence length constant\n",
        "\n",
        "    return generated_text\n",
        "\n",
        "# Function to generate text\n",
        "def generate_text(start_text, model, length=500):\n",
        "    start_text = start_text.lower()  # Ensure lowercase consistency\n",
        "    generated_text = start_text\n",
        "\n",
        "    # Convert seed text into a sequence\n",
        "    input_seq = [char_to_idx[char] for char in start_text]\n",
        "\n",
        "    # Pad input sequence to SEQ_LENGTH\n",
        "    if len(input_seq) < SEQ_LENGTH:\n",
        "        input_seq = [0] * (SEQ_LENGTH - len(input_seq)) + input_seq  # Left-padding\n",
        "\n",
        "    for _ in range(length):\n",
        "        # Prepare input sequence\n",
        "        input_data = tf.keras.utils.to_categorical([input_seq], num_classes=vocab_size)\n",
        "\n",
        "        # Ensure correct shape\n",
        "        input_data = np.reshape(input_data, (1, SEQ_LENGTH, vocab_size))\n",
        "\n",
        "        # Predict next character\n",
        "        predicted_probs = model.predict(input_data, verbose=0) # 'model' is now the actual model object\n",
        "        predicted_idx = np.argmax(predicted_probs)\n",
        "\n",
        "        # Append character to generated text\n",
        "        next_char = idx_to_char[predicted_idx]\n",
        "        generated_text += next_char\n",
        "\n",
        "        # Update input sequence\n",
        "        input_seq.append(predicted_idx)\n",
        "        input_seq = input_seq[1:]  # Keep sequence length constant\n",
        "\n",
        "    return generated_text"
      ],
      "metadata": {
        "id": "cOi3YOrVZxD0"
      },
      "execution_count": 40,
      "outputs": []
    },
    {
      "cell_type": "code",
      "source": [
        "# Generate text using a seed phrase\n",
        "print(f\"SIMPLERNN: {generate_text('colour of sky is blue', simple_rnn_model, 500)}\")\n",
        "print(f\"GRU: {generate_text('colour of sky is blue', gru_model, 500)}\") # Pass the model object, not a string\n",
        "print(f\"BIDIRRNN: {generate_text('colour of sky is blue', bilstm_model, 500)}\") # Pass the model object, not a string\n",
        "print(f\"LSTM: {generate_text('colour of sky is blue', lstm_model, 500)}\") # Pass the model object, not a string"
      ],
      "metadata": {
        "colab": {
          "base_uri": "https://localhost:8080/"
        },
        "id": "r-TV44dfZxPd",
        "outputId": "81e60598-e472-4da1-aa7d-c2db063e3713"
      },
      "execution_count": 42,
      "outputs": [
        {
          "output_type": "stream",
          "name": "stdout",
          "text": [
            "SIMPLERNN: colour of sky is blue                                                                                                                                                                                                                                                                                                                                                                                                                                                                                                                    \n",
            "GRU: colour of sky is blue, and that you distribute electronic texts**\n",
            "\n",
            "\n",
            "*****\n",
            "\n",
            "chesected the conditions of the fils.\n",
            "\n",
            "\n",
            "                                15\n",
            "  no may i dis berest of the tomb,\n",
            "  of his suggome converted and as the time\n",
            "  to the waste happier than thou art.\n",
            "  gentle thiempare thee, for still the loss,\n",
            "  thou art thou get a your from love's loving parts,\n",
            "  and moan th' expense of many a vanished sight.\n",
            "  thand's form and to be gone,\n",
            "  who plain the stage purpose not give it aling,\n",
            "  to let be good can jumper \n",
            "BIDIRRNN: colour of sky is blued of heavs have done's gone: how how thou are one do not on how our so shads12.\n",
            "\n",
            "we of wer ten the world and contracted below, the are other information\n",
            "and edeading and shakespeare \n",
            "\n",
            "***  is the firstar for more than thou hads of william shows, below* the\n",
            "\n",
            "\n",
            "inatule weep a brewed and that you distributed or usured the note the etext is at for membershind of\n",
            "ally of and membershin be the newlle deleds the etext is at copy.  hut\n",
            "for the grace that this marked or a\n",
            "not for all to the willows to the\n",
            "LSTM: colour of sky is blue the project gutenberg-tm etexts distributy or used commercially.  prohibited commercial\n",
            "distribution included belone other party you may receive this etext is your day\n",
            "  thou art so posterity?  \n",
            "  thou art more lovely and more temperate:\n",
            "  rough winds do breathe or eyes consent are\n",
            "  for his low trave to breast ofthou most receiv'st with their age)\n",
            "  be thou the mater all the tomat of such sort,\n",
            "    as thou being mine, mine is thy good report.\n",
            "\n",
            "\n",
            "                     11  \n",
            "  so is it not with me \n"
          ]
        }
      ]
    },
    {
      "cell_type": "code",
      "source": [],
      "metadata": {
        "id": "Kr1swdc5ZxY3"
      },
      "execution_count": null,
      "outputs": []
    },
    {
      "cell_type": "code",
      "source": [],
      "metadata": {
        "id": "SzZyP7TJMeXK"
      },
      "execution_count": null,
      "outputs": []
    },
    {
      "cell_type": "code",
      "source": [],
      "metadata": {
        "id": "zy5OEMaJqwpT"
      },
      "execution_count": null,
      "outputs": []
    },
    {
      "cell_type": "code",
      "source": [],
      "metadata": {
        "id": "UfYIWJybqwrd"
      },
      "execution_count": null,
      "outputs": []
    },
    {
      "cell_type": "code",
      "source": [],
      "metadata": {
        "id": "5_y--R4iqwth"
      },
      "execution_count": null,
      "outputs": []
    },
    {
      "cell_type": "code",
      "source": [],
      "metadata": {
        "id": "4cVab7j8qwwY"
      },
      "execution_count": null,
      "outputs": []
    },
    {
      "cell_type": "code",
      "source": [],
      "metadata": {
        "id": "oD4H9TPbpN3k"
      },
      "execution_count": null,
      "outputs": []
    }
  ]
}